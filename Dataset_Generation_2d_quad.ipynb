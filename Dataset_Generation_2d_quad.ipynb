{
 "cells": [
  {
   "cell_type": "markdown",
   "metadata": {},
   "source": [
    "# Demonstrating the dataset generation for an ampl model\n",
    "\n",
    "This notebook shows the generation of the dataset that are subsequently used to train a neural network for optimal control."
   ]
  },
  {
   "cell_type": "code",
   "execution_count": 1,
   "metadata": {},
   "outputs": [
    {
     "name": "stdout",
     "output_type": "stream",
     "text": [
      "Warning: could not import the Controller class. If  you need it make sure pyaudi is installed\n"
     ]
    }
   ],
   "source": [
    "### %pylab notebook\n",
    "from pyquad.ekin import*\n",
    "from tqdm import tqdm"
   ]
  },
  {
   "cell_type": "code",
   "execution_count": 6,
   "metadata": {},
   "outputs": [],
   "source": [
    "ampl_mod_path = \"ampl/bebop_6dof.mod\"\n",
    "\n",
    "num = 10000\n",
    "\n",
    "# INITIAL CONDITIONS\n",
    "y0 = np.random.uniform(-10.0, 10.0, num)\n",
    "z0 = np.random.uniform(-10.0, 10.0, num)\n",
    "\n",
    "vy0 = np.random.uniform(-5.0,5.0, num)\n",
    "vz0 = np.random.uniform(-5.0,5.0, num)\n",
    "theta0 = np.random.uniform(-np.pi/3, np.pi/3, num)\n",
    "\n",
    "omega0 = np.random.uniform(-0.01, -0.01, num)\n",
    "\n",
    "\n",
    "parameters = {\n",
    "        \"y0\"          : y0,\n",
    "        \"z0\"          : z0,\n",
    "        \"vy0\"         : vy0,\n",
    "        \"vz0\"         : vz0,\n",
    "        \"theta0\"      : theta0,\n",
    "        \"omega0\"      : omega0,\n",
    "}\n",
    "\n",
    "fixed_parameters = {\n",
    "    \"yn\" : 0.0,\n",
    "    \"zn\" : 0.0,\n",
    "    \"vyn\" : 0.0,\n",
    "    \"vzn\" : 0.0,\n",
    "    \"thetan\" : 0.0,\n",
    "    \"omegan\" : 0.0,  \n",
    "    \"epsilon\" : 0.5,  \n",
    "}"
   ]
  },
  {
   "cell_type": "code",
   "execution_count": 7,
   "metadata": {},
   "outputs": [],
   "source": [
    "def run_ampl_model(param_dict, file_path):\n",
    "    model = AMPLModel(ampl_mod_path)\n",
    "    model.setParameterValues(param_dict)\n",
    "    model.setParameterValues(fixed_parameters)\n",
    "    model.solve()\n",
    "    soln_vals = model.getSolutionValues()\n",
    "    obj_vals = model.getObjectiveValues()\n",
    "    # save solution to file\n",
    "    np.savez(file_path, **{\"Success\": model.checkSolved(), \"t\": soln_vals['timegrid'], **soln_vals, **obj_vals, **param_dict, **fixed_parameters})"
   ]
  },
  {
   "cell_type": "code",
   "execution_count": 8,
   "metadata": {},
   "outputs": [],
   "source": [
    "name = '2D_QUAD_HOVER'\n",
    "datafolder = 'datasets/' + name\n",
    "datafile = 'datasets/' + name + '.npz'\n",
    "\n",
    "# make folder if it doesn't exist\n",
    "if not os.path.exists(datafolder):\n",
    "    os.makedirs(datafolder)"
   ]
  },
  {
   "cell_type": "code",
   "execution_count": 9,
   "metadata": {},
   "outputs": [
    {
     "name": "stderr",
     "output_type": "stream",
     "text": []
    },
    {
     "name": "stdout",
     "output_type": "stream",
     "text": [
      "Warning: could not import the Controller class. If  you need it make sure pyaudi is installed\n",
      "Warning: could not import the Controller class. If  you need it make sure pyaudi is installed\n",
      "Warning: could not import the Controller class. If  you need it make sure pyaudi is installed\n",
      "Warning: could not import the Controller class. If  you need it make sure pyaudi is installed\n",
      "Warning: could not import the Controller class. If  you need it make sure pyaudi is installed\n",
      "Warning: could not import the Controller class. If  you need it make sure pyaudi is installed\n",
      "Warning: could not import the Controller class. If  you need it make sure pyaudi is installed\n",
      "Warning: could not import the Controller class. If  you need it make sure pyaudi is installed\n",
      "Warning: could not import the Controller class. If  you need it make sure pyaudi is installed\n",
      "Warning: could not import the Controller class. If  you need it make sure pyaudi is installed\n",
      "Warning: could not import the Controller class. If  you need it make sure pyaudi is installed\n",
      "Warning: could not import the Controller class. If  you need it make sure pyaudi is installed\n",
      "Warning: could not import the Controller class. If  you need it make sure pyaudi is installed\n",
      "Warning: could not import the Controller class. If  you need it make sure pyaudi is installed\n",
      "Warning: could not import the Controller class. If  you need it make sure pyaudi is installed\n",
      "Warning: could not import the Controller class. If  you need it make sure pyaudi is installed\n",
      "Warning: could not import the Controller class. If  you need it make sure pyaudi is installed\n",
      "Warning: could not import the Controller class. If  you need it make sure pyaudi is installed\n",
      "Warning: could not import the Controller class. If  you need it make sure pyaudi is installed\n",
      "Warning: could not import the Controller class. If  you need it make sure pyaudi is installed\n"
     ]
    },
    {
     "name": "stderr",
     "output_type": "stream",
     "text": [
      "100%|██████████| 7446/7446 [04:32<00:00, 27.29it/s]\n"
     ]
    },
    {
     "name": "stdout",
     "output_type": "stream",
     "text": [
      "Generated 10000 trajectories in datasets/2D_QUAD_HOVER\n"
     ]
    }
   ],
   "source": [
    "##### trajectories to solve\n",
    "index_set = set(range(num)) -  {int(file.replace('.npz','')) for file in os.listdir(datafolder)}\n",
    "\n",
    "# solve trajectories in parallel\n",
    "njobs = 20\n",
    "sol_lst = joblib.Parallel(njobs)(joblib.delayed(run_ampl_model)(\n",
    "    {key: val[idx] for key,val in parameters.items()},\n",
    "    datafolder + '/' + str(idx)\n",
    ") for idx in tqdm(index_set))\n",
    "\n",
    "print('Generated', num,'trajectories in', datafolder)"
   ]
  },
  {
   "cell_type": "code",
   "execution_count": 10,
   "metadata": {},
   "outputs": [
    {
     "name": "stderr",
     "output_type": "stream",
     "text": [
      "100%|██████████| 10000/10000 [00:04<00:00, 2231.12it/s]\n"
     ]
    }
   ],
   "source": [
    "def load_file(file, datafolder):\n",
    "    try:\n",
    "        return dict(np.load(datafolder + '/' + file))\n",
    "    except:\n",
    "        return None\n",
    "\n",
    "njobs = 100\n",
    "trajectory_list = joblib.Parallel(njobs)(\n",
    "    joblib.delayed(load_file)(file, datafolder) for file in tqdm(os.listdir(datafolder))\n",
    ")\n",
    "trajectory_list = [traj for traj in trajectory_list if traj != None]"
   ]
  },
  {
   "cell_type": "code",
   "execution_count": 11,
   "metadata": {},
   "outputs": [
    {
     "name": "stderr",
     "output_type": "stream",
     "text": [
      "100%|██████████| 35/35 [00:00<00:00, 100.75it/s]\n"
     ]
    }
   ],
   "source": [
    "keys = trajectory_list[0].keys()\n",
    "trajectory_list = [traj for traj in trajectory_list if traj.keys()==keys]\n",
    "keys = keys - {key+'m' for key in keys if key+'m' in keys}\n",
    "\n",
    "dataset = {key: np.stack([traj[key] for traj in trajectory_list]) for key in tqdm(keys)}\n",
    "\n",
    "# default parameters\n",
    "params = AMPLModel(ampl_mod_path).getParameterValues()\n",
    "dataset = {**params, **dataset}\n",
    "\n",
    "# save dataset\n",
    "np.savez_compressed(datafile, **dataset)"
   ]
  },
  {
   "cell_type": "markdown",
   "metadata": {},
   "source": [
    "**Filter failed trajectories**"
   ]
  },
  {
   "cell_type": "code",
   "execution_count": 12,
   "metadata": {},
   "outputs": [
    {
     "name": "stdout",
     "output_type": "stream",
     "text": [
      "19\n",
      "10000\n"
     ]
    },
    {
     "name": "stderr",
     "output_type": "stream",
     "text": [
      "100%|██████████| 48/48 [00:01<00:00, 34.64it/s]\n"
     ]
    }
   ],
   "source": [
    "def filter_unsuccesful(dataset):\n",
    "    return set(np.where(dataset['Success'] == False)[0])\n",
    "\n",
    "\n",
    "a=np.load(datafile)\n",
    "num = a['y'].shape[0]\n",
    "discard = filter_unsuccesful(a)\n",
    "keep = set(range(num)) - discard\n",
    "\n",
    "print(len(discard))\n",
    "print(num)\n",
    "\n",
    "if discard:\n",
    "    b = dict()\n",
    "    for key in tqdm(a.keys()):\n",
    "        if len(a[key].shape) > 0:\n",
    "            if a[key].shape[0] == num:\n",
    "                b[key] = a[key][list(keep)]\n",
    "        else:\n",
    "            b[key] = a[key]\n",
    "    np.savez_compressed(datafile, **b)\n",
    "    \n",
    "dataset = dict(np.load(datafile))"
   ]
  },
  {
   "cell_type": "markdown",
   "metadata": {},
   "source": [
    "**Animation Code**"
   ]
  },
  {
   "cell_type": "code",
   "execution_count": 13,
   "metadata": {},
   "outputs": [],
   "source": [
    "import cv2\n",
    "\n",
    "# global variables\n",
    "window_created = False\n",
    "window_name = \"2d Quadcopter\"\n",
    "img_size = 800\n",
    "scale = img_size / 20.0\n",
    "\n",
    "# videowriter\n",
    "fourcc = cv2.VideoWriter_fourcc(*'mp4v')\n",
    "writer = cv2.VideoWriter('output.mp4', fourcc, 100, (img_size, img_size))\n",
    "recording = False\n",
    "\n",
    "def map_to_image(x,z):\n",
    "    global img_size, scale\n",
    "    # Map the quadcopter's position to the image coordinates\n",
    "    x = int(x * scale + img_size / 2)\n",
    "    z = int(img_size - z * scale - img_size / 2)\n",
    "    return x, z\n",
    "\n",
    "def draw(image,x,z,theta,u1,u2):\n",
    "    global scale\n",
    "    \n",
    "    # Draw the quadcopter\n",
    "    \n",
    "    length = 0.2 # Length of the quadcopter's arm\n",
    "    direction = np.array([np.cos(theta), np.sin(theta)])\n",
    "    left_motor = np.array([x, z]) - length * direction\n",
    "    right_motor = np.array([x, z]) + length * direction\n",
    "\n",
    "    # Define the thrust vectors\n",
    "    left_thrust = u1*np.array([np.cos(theta+np.pi/2), np.sin(theta+np.pi/2)])*length\n",
    "    right_thrust = u2*np.array([np.cos(theta+np.pi/2), np.sin(theta+np.pi/2)])*length\n",
    "\n",
    "    # Draw the quadcopter as a line segment\n",
    "    x1, z1 = map_to_image(left_motor[0], left_motor[1])\n",
    "    x2, z2 = map_to_image(right_motor[0], right_motor[1])\n",
    "    \n",
    "    # Draw cross in the origin\n",
    "    size = 0.2\n",
    "    cv2.line(image, map_to_image(0,size), map_to_image(0, -size), (200, 200, 200), 2)\n",
    "    cv2.line(image, map_to_image(size,0), map_to_image(-size, 0), (200, 200, 200), 2)\n",
    "\n",
    "    # Draw the action as an arrow\n",
    "    cv2.arrowedLine(image, (x1, z1), (x1+int(left_thrust[0]*scale), z1-int(left_thrust[1]*scale)), (0, 0, 255), 2)\n",
    "    cv2.arrowedLine(image, (x2, z2), (x2+int(right_thrust[0]*scale), z2-int(right_thrust[1]*scale)), (0, 0, 255), 2)\n",
    "    cv2.line(image, (x1, z1), (x2, z2), (255, 0, 0), 2)\n",
    "\n",
    "    return image\n",
    "\n",
    "def nothing(x):\n",
    "    pass\n",
    "    \n",
    "def animate(*trajectories):\n",
    "    global window_created, recording, writer\n",
    "    if not window_created:\n",
    "        cv2.namedWindow(window_name)\n",
    "        window_created = True\n",
    "        \n",
    "    # create a slider to control the time\n",
    "    cv2.createTrackbar('t', window_name, 0, trajectories[0]['t'].shape[0]-1, nothing)\n",
    "    \n",
    "    while True:\n",
    "        index = cv2.getTrackbarPos('t', window_name)\n",
    "        \n",
    "        # Create a white image as the background\n",
    "        image = 255*np.ones((800, 800, 3), dtype=np.uint8)\n",
    "        \n",
    "        for traj in trajectories:\n",
    "            image = draw(\n",
    "                image,\n",
    "                traj['y'][index],\n",
    "                traj['z'][index],\n",
    "                traj['theta'][index],\n",
    "                traj['ur'][index],\n",
    "                traj['ul'][index]\n",
    "            )\n",
    "        \n",
    "        key = cv2.waitKeyEx(1)\n",
    "\n",
    "        # Check if the \"Esc\" key is pressed\n",
    "        if key == 27:  # 27 is the ASCII code for the \"Esc\" key\n",
    "            cv2.destroyAllWindows()\n",
    "            window_created = False\n",
    "            break\n",
    "        # record if 'r' is pressed\n",
    "        if key == ord('r'):\n",
    "            recording = not recording\n",
    "            if recording:\n",
    "                print(\"Recording started\")\n",
    "            else:\n",
    "                writer.release()\n",
    "        if recording:\n",
    "            writer.write(image)\n",
    "            # write text on the image\n",
    "            cv2.putText(image, \"Recording\", (10, 30), cv2.FONT_HERSHEY_SIMPLEX, 1, (0, 0, 255), 2)\n",
    "\n",
    "        # Show the image in the OpenCV window\n",
    "        cv2.imshow(window_name, image)\n",
    "    "
   ]
  },
  {
   "cell_type": "markdown",
   "metadata": {},
   "source": [
    "**View Trajectories**"
   ]
  },
  {
   "cell_type": "code",
   "execution_count": 14,
   "metadata": {},
   "outputs": [],
   "source": [
    "# load dataset\n",
    "dataset = dict(np.load(datafile))\n",
    "\n",
    "# select 100 random trajectories from the dataset\n",
    "indices = np.random.choice(dataset['t'].shape[0], 100, replace=False)\n",
    "trajs = [{key: dataset[key][index] for key in ['t', 'y', 'z', 'theta', 'ur', 'ul']} for index in indices]\n",
    "\n",
    "animate(*trajs)"
   ]
  },
  {
   "cell_type": "code",
   "execution_count": null,
   "metadata": {},
   "outputs": [],
   "source": []
  }
 ],
 "metadata": {
  "kernelspec": {
   "display_name": "Python 3 (ipykernel)",
   "language": "python",
   "name": "python3"
  },
  "language_info": {
   "codemirror_mode": {
    "name": "ipython",
    "version": 3
   },
   "file_extension": ".py",
   "mimetype": "text/x-python",
   "name": "python",
   "nbconvert_exporter": "python",
   "pygments_lexer": "ipython3",
   "version": "3.11.6"
  }
 },
 "nbformat": 4,
 "nbformat_minor": 2
}
