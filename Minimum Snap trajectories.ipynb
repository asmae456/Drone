{
 "cells": [
  {
   "cell_type": "code",
   "execution_count": 44,
   "id": "0fa25cc5",
   "metadata": {},
   "outputs": [],
   "source": [
    "# generating Minimum Snap trajectories as a benchmark for the G&CNets\n",
    "import matplotlib.pyplot as plt\n",
    "import numpy as np\n",
    "from sympy import *\n",
    "\n",
    "# RACE TRACK\n",
    "# waypoint: [x, y, z, yaw]\n",
    "waypoints = np.array([\n",
    "    [-8, -2, -1.5, 0.],         # start (hover)\n",
    "]+[\n",
    "    [-5, -2, -1.5, 0.],         # gate 1\n",
    "    [ 5, -2, -1.5, 0.],         # gate 2\n",
    "    [ 5,  2, -1.5, np.pi],      # gate 3\n",
    "    [-5,  2, -1.5, np.pi],      # gate 4\n",
    "]*4+[\n",
    "    [-8, -2, -1.5, np.pi]       # end (hover)\n",
    "])\n",
    "\n",
    "region = np.array([\n",
    "    [-20, 20],  # xmin, xmax\n",
    "    [-20, 20],  # ymin, ymax\n",
    "    [-20, 0]   # zmin, zmax\n",
    "])\n",
    "    \n",
    "\n",
    "# Position and yaw are described by nth order polynomials\n",
    "t = Symbol('t')\n",
    "\n",
    "# Degree of polynomials\n",
    "n=6\n",
    "\n",
    "# number of trajectories\n",
    "n_traj = len(waypoints)-1\n",
    "\n",
    "parameters = [Matrix([['p'+str(i)+str(j)+str(k) for j in range(n+1)] for k in range(4)]) for i in range(n_traj)]\n",
    "T = [Symbol('T'+str(i)) for i in range(n_traj)]\n",
    "\n",
    "def get_traj(idx):\n",
    "    P = parameters[idx]\n",
    "    x   = sum([P[0,i]*t**i for i in range(n+1)])\n",
    "    y   = sum([P[1,i]*t**i for i in range(n+1)])\n",
    "    z   = sum([P[2,i]*t**i for i in range(n+1)])\n",
    "    psi = sum([P[3,i]*t**i for i in range(n+1)])\n",
    "    return x,y,z,psi"
   ]
  },
  {
   "cell_type": "code",
   "execution_count": 45,
   "id": "7253a5b0",
   "metadata": {},
   "outputs": [],
   "source": [
    "# Objective function\n",
    "kr = 4\n",
    "kpsi = 2\n",
    "\n",
    "# pos and yaw have equal weight\n",
    "mur = 1\n",
    "mupsi = 1\n",
    "\n",
    "def get_Obj(idx):\n",
    "    x,y,z,psi = get_traj(idx)\n",
    "    return integrate(mur*(diff(x,t,kr)**2+diff(y,t,kr)**2+diff(z,t,kr)**2) + mupsi*(diff(psi,t,kpsi)**2), (t, 0, T[idx]))\n",
    "\n",
    "Obj = sum(get_Obj(i) for i in range(n_traj))"
   ]
  },
  {
   "cell_type": "code",
   "execution_count": 46,
   "id": "196b2da7",
   "metadata": {},
   "outputs": [],
   "source": [
    "# Get constraints of the ith trajectory\n",
    "def get_constraints(idx):\n",
    "    x,y,z,psi = get_traj(idx)\n",
    "    \n",
    "    # Equality constraints g(p) = 0\n",
    "    g=[]\n",
    "    \n",
    "    # START POINT CONSTRAINTS\n",
    "    if idx==0:\n",
    "        # Initial state \n",
    "        g.append(x.subs(t,0)-waypoints[0][0])\n",
    "        g.append(y.subs(t,0)-waypoints[0][1])\n",
    "        g.append(z.subs(t,0)-waypoints[0][2])\n",
    "        g.append(psi.subs(t,0)-waypoints[0][3])\n",
    "        # (hover)\n",
    "        for i in range(1, 3):\n",
    "            g.append(diff(x,t,i).subs(t,0))\n",
    "            g.append(diff(y,t,i).subs(t,0))\n",
    "            g.append(diff(z,t,i).subs(t,0))\n",
    "            g.append(diff(psi,t,i).subs(t,0))\n",
    "    else:\n",
    "        # Enforce continuity of the first kr derivatives of rT and first kψ derivatives of ψT\n",
    "        x_,y_,z_,psi_ = get_traj(idx-1)\n",
    "        for i in range(kr+1):\n",
    "            g.append(diff(x_,t,i).subs(t,T[idx-1])-diff(x,t,i).subs(t,0))\n",
    "            g.append(diff(y_,t,i).subs(t,T[idx-1])-diff(y,t,i).subs(t,0))\n",
    "            g.append(diff(z_,t,i).subs(t,T[idx-1])-diff(z,t,i).subs(t,0))\n",
    "        for i in range(kpsi+1):\n",
    "            g.append(diff(psi_,t,i).subs(t,T[idx-1])-diff(psi,t,i).subs(t,0))\n",
    "    \n",
    "    # END POINT CONSTRAINTS\n",
    "    g.append(x.subs(t,T[idx])-waypoints[idx+1][0])\n",
    "    g.append(y.subs(t,T[idx])-waypoints[idx+1][1])\n",
    "    g.append(z.subs(t,T[idx])-waypoints[idx+1][2])\n",
    "    g.append(psi.subs(t,T[idx])-waypoints[idx+1][3])\n",
    "\n",
    "    if idx == n_traj-1:\n",
    "        # end point hover\n",
    "        for i in range(1, 3):\n",
    "            g.append(diff(x,t,i).subs(t,T[idx]))\n",
    "            g.append(diff(y,t,i).subs(t,T[idx]))\n",
    "            g.append(diff(z,t,i).subs(t,T[idx]))\n",
    "            g.append(diff(psi,t,i).subs(t,T[idx]))\n",
    "    else:\n",
    "        # velocity must align with yaw\n",
    "        psi = waypoints[idx+1][3]\n",
    "        g.append(sin(psi)*diff(x,t).subs(t,T[idx])-cos(psi)*diff(y,t).subs(t,T[idx]))\n",
    "        g.append(diff(z,t).subs(t,T[idx]))\n",
    "        \n",
    "    # Region constraints\n",
    "    # add constraints to keep the trajectory within the region\n",
    "    return g"
   ]
  },
  {
   "cell_type": "code",
   "execution_count": 47,
   "id": "42c2bbb5",
   "metadata": {},
   "outputs": [
    {
     "name": "stdout",
     "output_type": "stream",
     "text": [
      "SNOPT 7.2-4 SNOPT 7.2-4 : Optimal solution found.\n",
      "359 iterations, objective 1548361.252\n",
      "SNOPT 7.2-4 SNOPT 7.2-4 : Optimal solution found.\n",
      "356 iterations, objective 350375.1494\n",
      "Nonlin evals: obj = 217, grad = 216, constrs = 217, Jac = 216.\n"
     ]
    }
   ],
   "source": [
    "from amplpy import AMPL\n",
    "\n",
    "ampl = AMPL()\n",
    "ampl.eval('option solver snopt;')\n",
    "\n",
    "ampl.eval('param Tn default '+ str(n_traj) + ';')\n",
    "\n",
    "# VARIABLES\n",
    "for t_ in T:\n",
    "    ampl.eval('var ' + str(t_) + ', >= 0;')\n",
    "for P in parameters:\n",
    "    for p in P:\n",
    "        ampl.eval('var ' + str(p) + ';')\n",
    "\n",
    "# OBJECTIVE\n",
    "objective = str(Obj)\n",
    "objective = objective.replace('**','^')\n",
    "ampl.eval('minimize myobjective: '+str(objective) +';')\n",
    "\n",
    "# CONSTRAINTS\n",
    "ampl.eval('subject to time_constraint: '+str(sum(T))+'=Tn;')\n",
    "\n",
    "for idx in range(n_traj):\n",
    "    ampl.eval('subject to time_constraint' + str(idx) + ':' + str(T[idx]) + '= 1.;')\n",
    "\n",
    "# ADD CONSTRAINTS FOR EACH TRAJ\n",
    "for idx in range(n_traj):\n",
    "    g = get_constraints(idx)\n",
    "    for i in range(len(g)):\n",
    "        constraint = str(g[i])\n",
    "        constraint = constraint.replace('**','^')\n",
    "        ampl.eval('subject to constraint' + str(idx) + '_' + str(i) + ':' + str(constraint) + '=0;')\n",
    "\n",
    "# SOLVE\n",
    "ampl.solve()\n",
    "    \n",
    "# REMOVE TIME CONSTRIANTS\n",
    "for idx in range(n_traj):\n",
    "    ampl.getConstraint('time_constraint'+str(idx)).drop()\n",
    "\n",
    "# SOLVE\n",
    "ampl.solve()"
   ]
  },
  {
   "cell_type": "code",
   "execution_count": 48,
   "id": "9acf64f2",
   "metadata": {},
   "outputs": [
    {
     "name": "stdout",
     "output_type": "stream",
     "text": [
      "SNOPT 7.2-4 SNOPT 7.2-4 : Optimal solution found.\n",
      "184 iterations, objective 350375.1495\n",
      "Nonlin evals: obj = 3, grad = 2, constrs = 3, Jac = 2.\n"
     ]
    }
   ],
   "source": [
    "# SOLVE AGAIN?\n",
    "ampl.solve()"
   ]
  },
  {
   "cell_type": "code",
   "execution_count": 49,
   "id": "a75eba3f",
   "metadata": {},
   "outputs": [],
   "source": [
    "def get_traj_solved(idx):\n",
    "    x,y,z,psi = get_traj(idx)\n",
    "    x   = x.subs([(str(p), ampl.getVariable(str(p)).value()) for p in parameters[idx]])\n",
    "    y   = y.subs([(str(p), ampl.getVariable(str(p)).value()) for p in parameters[idx]])\n",
    "    z   = z.subs([(str(p), ampl.getVariable(str(p)).value()) for p in parameters[idx]])\n",
    "    psi = psi.subs([(str(p), ampl.getVariable(str(p)).value()) for p in parameters[idx]])\n",
    "    return x,y,z,psi"
   ]
  },
  {
   "cell_type": "code",
   "execution_count": 50,
   "id": "9ec17b5d",
   "metadata": {},
   "outputs": [
    {
     "name": "stdout",
     "output_type": "stream",
     "text": [
      "[ 0.          0.65619693  1.22387878  2.94780206  3.38465307  4.89934419\n",
      "  5.35446817  6.9014878   7.35345883  8.89666961  9.34843211 10.89237235\n",
      " 11.34417159 12.89063234 13.36337965 14.8419964  15.50809101 17.        ]\n"
     ]
    }
   ],
   "source": [
    "x,y,z,psi =[],[],[],[]\n",
    "T_ = np.cumsum([0] + [ampl.getVariable(str(T[i])).value() for i in range(n_traj)])\n",
    "for i in range(n_traj):\n",
    "    xi,yi,zi,psii = get_traj_solved(i)\n",
    "    x.append((xi.subs(t,t-T_[i]),(t>=T_[i])&(t<T_[i+1])))\n",
    "    y.append((yi.subs(t,t-T_[i]),(t>=T_[i])&(t<T_[i+1])))\n",
    "    z.append((zi.subs(t,t-T_[i]),(t>=T_[i])&(t<T_[i+1])))\n",
    "    psi.append((psii.subs(t,t-T_[i]),(t>=T_[i])&(t<T_[i+1])))\n",
    "\n",
    "x.append((waypoints[-1][0], True))\n",
    "y.append((waypoints[-1][1], True))\n",
    "z.append((waypoints[-1][2], True))\n",
    "psi.append((waypoints[-1][3], True))\n",
    "\n",
    "x   = Piecewise(*x, evaluate=False)\n",
    "y   = Piecewise(*y, evaluate=False)\n",
    "z   = Piecewise(*z, evaluate=False)\n",
    "psi = Piecewise(*psi, evaluate=False)\n",
    "print(T_)"
   ]
  },
  {
   "cell_type": "code",
   "execution_count": 51,
   "id": "297be32c",
   "metadata": {},
   "outputs": [],
   "source": [
    "import matplotlib as mpl\n",
    "import matplotlib.cm as cm\n",
    "\n",
    "norm = mpl.colors.Normalize(0,20)\n",
    "cmap = cm.jet \n",
    "\n",
    "def color_plot(x_axis,y_axis,color_axis,step=1):\n",
    "    for i in reversed(range(step,len(x_axis),step)):\n",
    "        ax = plt.gca()\n",
    "        ax.plot([x_axis[i-step], x_axis[i]],[y_axis[i-step], y_axis[i]], color=cmap(norm(color_axis[i])))\n",
    "        ax.axis('equal')\n",
    "        \n",
    "def color_plot3D(x_axis,y_axis,z_axis,color_axis,step=1):\n",
    "    ax = plt.axes(projection='3d')\n",
    "    for i in reversed(range(step,len(x_axis),step)):\n",
    "        ax.plot3D([x_axis[i-step], x_axis[i]],[y_axis[i-step], y_axis[i]],[z_axis[i-step], z_axis[i]], color=cmap(norm(color_axis[i])))\n",
    "#         ax.axis('equal')"
   ]
  },
  {
   "cell_type": "code",
   "execution_count": 52,
   "id": "1eac6b60",
   "metadata": {},
   "outputs": [
    {
     "data": {
      "image/png": "[encoded data removed]",
      "text/plain": [
       "<Figure size 640x480 with 1 Axes>"
      ]
     },
     "metadata": {},
     "output_type": "display_data"
    }
   ],
   "source": [
    "vx = diff(x,t)\n",
    "vy = diff(y,t)\n",
    "V = sqrt(vx**2+vy**2)\n",
    "\n",
    "t_ = np.linspace(0,T_[-1],1000)\n",
    "x_ = lambdify(t,x)\n",
    "y_ = lambdify(t,y)\n",
    "z_ = lambdify(t,z)\n",
    "psi_ = lambdify(t,psi)\n",
    "V_ = lambdify(t,V)\n",
    "\n",
    "color_plot(y_(t_),x_(t_),V_(t_))\n",
    "plt.scatter(waypoints[:,1],waypoints[:,0],color='red')\n",
    "plt.xlabel('y [m]')\n",
    "plt.ylabel('x [m]')\n",
    "plt.grid()\n",
    "plt.gca().axis('equal')\n",
    "plt.title('Min Snap')\n",
    "plt.show()"
   ]
  },
  {
   "cell_type": "code",
   "execution_count": 10,
   "id": "33e5d84a",
   "metadata": {},
   "outputs": [],
   "source": [
    "z=simplify(z)\n",
    "psi=simplify(psi)"
   ]
  },
  {
   "cell_type": "markdown",
   "id": "d5ca1241",
   "metadata": {},
   "source": [
    "## Generate C code"
   ]
  },
  {
   "cell_type": "code",
   "execution_count": 11,
   "id": "4edfa732",
   "metadata": {},
   "outputs": [
    {
     "name": "stdout",
     "output_type": "stream",
     "text": [
      "generating code\n"
     ]
    }
   ],
   "source": [
    "from sympy.utilities.codegen import codegen\n",
    "\n",
    "# TRANSFORM TO CYBERZOO COORDINATES\n",
    "x_ = x #-2.\n",
    "y_ = y #-1.5\n",
    "z_ = z #-1.\n",
    "\n",
    "angle = 0 #-33*np.pi/180\n",
    "x_new = x_*cos(angle) - y_*sin(angle)\n",
    "y_new = x_*sin(angle) + y_*cos(angle)\n",
    "x_ = x_new\n",
    "y_ = y_new\n",
    "psi_ = psi + angle\n",
    "\n",
    "# TIME SCALE PARAMETER\n",
    "alpha = Symbol('alpha')\n",
    "x_ = x_.subs(t,alpha*t)\n",
    "y_ = y_.subs(t,alpha*t)\n",
    "z_ = z_.subs(t,alpha*t)\n",
    "psi_ = psi_.subs(t,alpha*t)\n",
    "\n",
    "vx_ = diff(x_,t)\n",
    "vy_ = diff(y_,t)\n",
    "vz_ = diff(z_,t)\n",
    "\n",
    "ax_ = diff(vx_,t)\n",
    "ay_ = diff(vy_,t)\n",
    "az_ = diff(vz_,t)\n",
    "\n",
    "print('generating code')\n",
    "[(c_name, c_code), (h_name, c_header)] = codegen([\n",
    "    (\"get_x\", x_),\n",
    "    (\"get_y\", y_),\n",
    "    (\"get_z\", z_),\n",
    "    (\"get_psi\", psi_),\n",
    "    (\"get_vx\", vx_),\n",
    "    (\"get_vy\", vy_),\n",
    "    (\"get_vz\", vz_),\n",
    "    (\"get_ax\", ax_),\n",
    "    (\"get_ay\", ay_),\n",
    "    (\"get_az\", az_)\n",
    "], \"C\", \"min_snap\", header=True, empty=False)"
   ]
  },
  {
   "cell_type": "code",
   "execution_count": 12,
   "id": "64c3d09e",
   "metadata": {},
   "outputs": [],
   "source": [
    "c_header = c_header.replace('int', 'double')\n",
    "c_header = c_header.replace('()', '(double alpha, double t)')\n",
    "# print(c_header)"
   ]
  },
  {
   "cell_type": "code",
   "execution_count": 13,
   "id": "d5bf25d4",
   "metadata": {
    "scrolled": true
   },
   "outputs": [],
   "source": [
    "c_code = c_code.replace('int', 'double')\n",
    "c_code = c_code.replace('()', '(double alpha, double t)')\n",
    "# print(c_code)"
   ]
  },
  {
   "cell_type": "code",
   "execution_count": 14,
   "id": "e30e8f60",
   "metadata": {
    "scrolled": false
   },
   "outputs": [],
   "source": [
    "text_file = open('c_code/'+c_name, \"w\")\n",
    "n = text_file.write(c_code)\n",
    "text_file.close()\n",
    "\n",
    "text_file = open('c_code/'+h_name, \"w\")\n",
    "n = text_file.write(c_header)\n",
    "text_file.close()"
   ]
  },
  {
   "cell_type": "markdown",
   "id": "d894b0f3",
   "metadata": {},
   "source": [
    "## Test C code"
   ]
  },
  {
   "cell_type": "code",
   "execution_count": 15,
   "id": "e986f442",
   "metadata": {},
   "outputs": [
    {
     "name": "stdout",
     "output_type": "stream",
     "text": [
      "Create object files\n",
      "Create library\n"
     ]
    },
    {
     "data": {
      "text/plain": [
       "0"
      ]
     },
     "execution_count": 15,
     "metadata": {},
     "output_type": "execute_result"
    }
   ],
   "source": [
    "import subprocess\n",
    "import ctypes\n",
    "import os\n",
    "\n",
    "path = os.path.abspath('c_code')\n",
    "\n",
    "# https://cu7ious.medium.com/how-to-use-dynamic-libraries-in-c-46a0f9b98270\n",
    "\n",
    "# Create object files\n",
    "print('Create object files')\n",
    "subprocess.call('gcc -fPIC -c *.c', shell=True, cwd=path)\n",
    "\n",
    "# Create library\n",
    "print('Create library')\n",
    "subprocess.call('gcc -shared -Wl,-soname,libtools.so -o libtools.so *.o', shell=True, cwd=path)\n",
    "\n",
    "# Remove object files\n",
    "subprocess.call('rm *.o', shell=True, cwd=path)"
   ]
  },
  {
   "cell_type": "code",
   "execution_count": 16,
   "id": "19aa0b4e",
   "metadata": {},
   "outputs": [],
   "source": [
    "lib_path = os.path.abspath(\"c_code/libtools.so\")\n",
    "fun = ctypes.CDLL(lib_path)"
   ]
  },
  {
   "cell_type": "code",
   "execution_count": 17,
   "id": "bc825bd5",
   "metadata": {},
   "outputs": [],
   "source": [
    "fun.get_x.argtypes = [ctypes.c_double, ctypes.c_double]\n",
    "fun.get_x.restype = ctypes.c_double\n",
    "\n",
    "fun.get_y.argtypes = [ctypes.c_double, ctypes.c_double]\n",
    "fun.get_y.restype = ctypes.c_double\n",
    "\n",
    "fun.get_z.argtypes = [ctypes.c_double, ctypes.c_double]\n",
    "fun.get_z.restype = ctypes.c_double"
   ]
  },
  {
   "cell_type": "code",
   "execution_count": 18,
   "id": "aa74e2af",
   "metadata": {},
   "outputs": [],
   "source": [
    "x__ = [fun.get_x(1,ti) for ti in t_]\n",
    "y__ = [fun.get_y(1,ti) for ti in t_]\n",
    "z__ = [fun.get_z(1,ti) for ti in t_]"
   ]
  },
  {
   "cell_type": "code",
   "execution_count": 19,
   "id": "1280d8df",
   "metadata": {},
   "outputs": [
    {
     "name": "stdout",
     "output_type": "stream",
     "text": [
      "Using matplotlib backend: module://matplotlib_inline.backend_inline\n"
     ]
    },
    {
     "data": {
      "image/png": "[encoded data removed]",
      "text/plain": [
       "<Figure size 640x480 with 1 Axes>"
      ]
     },
     "metadata": {},
     "output_type": "display_data"
    }
   ],
   "source": [
    "%matplotlib\n",
    "ax = plt.axes(projection='3d')\n",
    "ax.plot3D(x__,y__,z__)\n",
    "plt.show()"
   ]
  },
  {
   "cell_type": "code",
   "execution_count": null,
   "id": "57d1a613",
   "metadata": {},
   "outputs": [],
   "source": []
  }
 ],
 "metadata": {
  "kernelspec": {
   "display_name": "quad",
   "language": "python",
   "name": "python3"
  },
  "language_info": {
   "codemirror_mode": {
    "name": "ipython",
    "version": 3
   },
   "file_extension": ".py",
   "mimetype": "text/x-python",
   "name": "python",
   "nbconvert_exporter": "python",
   "pygments_lexer": "ipython3",
   "version": "3.10.14"
  }
 },
 "nbformat": 4,
 "nbformat_minor": 5
}
