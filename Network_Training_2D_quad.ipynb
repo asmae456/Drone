{
 "cells": [
  {
   "cell_type": "code",
   "execution_count": 1,
   "metadata": {},
   "outputs": [
    {
     "name": "stdout",
     "output_type": "stream",
     "text": [
      "False\n"
     ]
    },
    {
     "name": "stderr",
     "output_type": "stream",
     "text": [
      "/home/robinferede/miniconda3/envs/quad/lib/python3.11/site-packages/torch/cuda/__init__.py:138: UserWarning: CUDA initialization: CUDA unknown error - this may be due to an incorrectly set up environment, e.g. changing env variable CUDA_VISIBLE_DEVICES after program start. Setting the available devices to be zero. (Triggered internally at /opt/conda/conda-bld/pytorch_1695392035891/work/c10/cuda/CUDAFunctions.cpp:108.)\n",
      "  return torch._C._cuda_getDeviceCount() > 0\n"
     ]
    }
   ],
   "source": [
    "import numpy as np\n",
    "import torch\n",
    "from torch.utils.data import Dataset, DataLoader\n",
    "\n",
    "print(torch.cuda.is_available())"
   ]
  },
  {
   "cell_type": "markdown",
   "metadata": {},
   "source": [
    "**Load Dataset**"
   ]
  },
  {
   "cell_type": "code",
   "execution_count": 2,
   "metadata": {},
   "outputs": [
    {
     "name": "stdout",
     "output_type": "stream",
     "text": [
      "loading dataset...\n",
      "100000 trajectories of length 79\n"
     ]
    }
   ],
   "source": [
    "# trajectories containing 199 points\n",
    "dataset_path = 'datasets/2D_QUAD_HOVER_EPS=0.5.npz'\n",
    "\n",
    "print('loading dataset...')\n",
    "dataset = np.load(dataset_path)\n",
    "dataset = dict(dataset)\n",
    "num = len(dataset['y'])\n",
    "length = len(dataset['y'][0])\n",
    "print(num, 'trajectories of length', length)"
   ]
  },
  {
   "cell_type": "markdown",
   "metadata": {},
   "source": [
    "**View Dataset**"
   ]
  },
  {
   "cell_type": "code",
   "execution_count": 3,
   "metadata": {},
   "outputs": [],
   "source": [
    "# view 10 random trajectories\n",
    "indices = np.random.choice(num, 1)\n",
    "trajectories = [{key: dataset[key][i] for key in dataset.keys()} for i in indices]\n",
    "\n",
    "from quadcopter_animation import animation2D\n",
    "animation2D.animate(*trajectories)"
   ]
  },
  {
   "cell_type": "markdown",
   "metadata": {},
   "source": [
    "**Create Dataloader**"
   ]
  },
  {
   "cell_type": "code",
   "execution_count": 4,
   "metadata": {},
   "outputs": [],
   "source": [
    "# the network should learn the mapping from\n",
    "# X = [y, z, vy, vz, theta, omega] to U = [ul, ur]\n",
    "\n",
    "# now we make an dataloader that loads an (X,U) pair\n",
    "class MyDataset(Dataset):\n",
    "    def __init__(self, trajectory_indices):\n",
    "        y       = dataset['y'][trajectory_indices].flatten()\n",
    "        z       = dataset['z'][trajectory_indices].flatten()\n",
    "        vy      = dataset['vy'][trajectory_indices].flatten()\n",
    "        vz      = dataset['vz'][trajectory_indices].flatten()\n",
    "        theta   = dataset['theta'][trajectory_indices].flatten()\n",
    "        omega   = dataset['omega'][trajectory_indices].flatten()\n",
    "        self.X  = torch.tensor(np.stack([y, z, vy, vz, theta, omega], axis=1), dtype=torch.float32)\n",
    "        \n",
    "        ul      = dataset['ul'][trajectory_indices].flatten()\n",
    "        ur      = dataset['ur'][trajectory_indices].flatten()\n",
    "        self.U  = torch.tensor(np.stack([ul, ur], axis=1), dtype=torch.float32)\n",
    "    def __len__(self):\n",
    "        return len(self.X)\n",
    "    def __getitem__(self, idx):\n",
    "        return self.X[idx], self.U[idx]\n",
    "    \n",
    "# train/test split\n",
    "batchsize_train = 256\n",
    "batchsize_test = 4096\n",
    "train_trajectories = range(int(0.8*num))\n",
    "test_trajectories = list(set(range(num)) - set(train_trajectories))\n",
    "\n",
    "train_dataset = MyDataset(train_trajectories)\n",
    "train_loader = DataLoader(train_dataset, batch_size=batchsize_train, shuffle=True)\n",
    "\n",
    "test_dataset = MyDataset(test_trajectories)\n",
    "test_loader = DataLoader(test_dataset, batch_size=batchsize_test, shuffle=False)"
   ]
  },
  {
   "cell_type": "markdown",
   "metadata": {},
   "source": [
    "**Define Neural Net**"
   ]
  },
  {
   "cell_type": "code",
   "execution_count": 7,
   "metadata": {},
   "outputs": [
    {
     "name": "stdout",
     "output_type": "stream",
     "text": [
      "Sequential(\n",
      "  (0): Linear(in_features=6, out_features=120, bias=True)\n",
      "  (1): ReLU()\n",
      "  (2): Linear(in_features=120, out_features=120, bias=True)\n",
      "  (3): ReLU()\n",
      "  (4): Linear(in_features=120, out_features=120, bias=True)\n",
      "  (5): ReLU()\n",
      "  (6): Linear(in_features=120, out_features=2, bias=True)\n",
      "  (7): Sigmoid()\n",
      ")\n"
     ]
    }
   ],
   "source": [
    "from torch import nn\n",
    "\n",
    "model = nn.Sequential(\n",
    "    nn.Linear(train_dataset.X.shape[1], 120),\n",
    "    nn.ReLU(),\n",
    "    nn.Linear(120, 120),\n",
    "    nn.ReLU(),\n",
    "    nn.Linear(120, 120),\n",
    "    nn.ReLU(),\n",
    "    nn.Linear(120, train_dataset.U.shape[1]),\n",
    "    nn.Sigmoid()\n",
    ")\n",
    "\n",
    "print(model)"
   ]
  },
  {
   "cell_type": "markdown",
   "metadata": {},
   "source": [
    "**Define Loss Function and Optimizer**"
   ]
  },
  {
   "cell_type": "code",
   "execution_count": 8,
   "metadata": {},
   "outputs": [],
   "source": [
    "criterion = torch.nn.MSELoss()\n",
    "optimizer = torch.optim.Adam(model.parameters(), lr=0.001, betas=(0.9, 0.999), eps=1e-08, weight_decay=0, amsgrad=False) "
   ]
  },
  {
   "cell_type": "markdown",
   "metadata": {},
   "source": [
    "**Training Loop**"
   ]
  },
  {
   "cell_type": "code",
   "execution_count": null,
   "metadata": {},
   "outputs": [],
   "source": [
    " from tqdm import tqdm\n",
    "\n",
    "# loop over the dataset multiple times\n",
    "num_epochs = 3\n",
    "for epoch in range(num_epochs):\n",
    "    loop = tqdm(enumerate(train_loader), total=len(train_loader), leave=False)\n",
    "    for i, (data, targets) in loop:\n",
    "        # zero the parameter gradients\n",
    "        optimizer.zero_grad()\n",
    "        \n",
    "        # forward + backward + optimize\n",
    "        outputs = model(data)\n",
    "        \n",
    "        loss = criterion(outputs, targets)\n",
    "        loss.backward()\n",
    "        optimizer.step()\n",
    "        \n",
    "        # update progressbar\n",
    "        loop.set_description(f\"Epoch [{epoch+1}/{num_epochs}]\")\n",
    "        loop.set_postfix(loss=loss.item())\n",
    "    loop.close()\n",
    "    # save model\n",
    "    torch.save(model, 'neural_networks/2D_QUAD_HOVER_EPS=0.5.pt')\n",
    "print('Finished Training')"
   ]
  },
  {
   "cell_type": "markdown",
   "metadata": {},
   "source": [
    "**Simulate**"
   ]
  },
  {
   "cell_type": "code",
   "execution_count": 9,
   "metadata": {},
   "outputs": [
    {
     "data": {
      "text/plain": [
       "Sequential(\n",
       "  (0): Linear(in_features=6, out_features=120, bias=True)\n",
       "  (1): ReLU()\n",
       "  (2): Linear(in_features=120, out_features=120, bias=True)\n",
       "  (3): ReLU()\n",
       "  (4): Linear(in_features=120, out_features=120, bias=True)\n",
       "  (5): ReLU()\n",
       "  (6): Linear(in_features=120, out_features=2, bias=True)\n",
       "  (7): Sigmoid()\n",
       ")"
      ]
     },
     "execution_count": 9,
     "metadata": {},
     "output_type": "execute_result"
    }
   ],
   "source": [
    "torch.load('neural_networks/2D_QUAD_HOVER_EPS=0.5.pt')"
   ]
  },
  {
   "cell_type": "code",
   "execution_count": 10,
   "metadata": {},
   "outputs": [],
   "source": [
    "# controller\n",
    "def controller(x):\n",
    "    with torch.no_grad():\n",
    "        u = model(torch.tensor(x, dtype=torch.float32))\n",
    "    return u.numpy()\n",
    "\n",
    "\n",
    "# dynamics:\n",
    "def f(x,u):\n",
    "    # state\n",
    "    y,z,vy,vz,theta,omega = x\n",
    "    \n",
    "    # control\n",
    "    ul,ur = u\n",
    "    \n",
    "    # parameters\n",
    "    g = 9.81\n",
    "    m = 0.389\n",
    "    Ixx = 0.001242\n",
    "    L = 0.08\n",
    "    maxthrust = 2.35\n",
    "    minthrust = 1.76\n",
    "    M = (maxthrust - minthrust)\n",
    "    F = 2*minthrust\n",
    "    beta = 0.5\n",
    "    \n",
    "    # dynamics\n",
    "    dy_dt       = vy\n",
    "    dz_dt       = vz\n",
    "    dv_ydt      = -((ur+ul) / m * M + F / m) * np.sin(theta) - beta * vy\n",
    "    dvz_dt      = ((ur+ul) / m * M + F / m) * np.cos(theta) - g - beta * vz\n",
    "    dtheta_dt   = omega\n",
    "    domega_dt   = L / Ixx * M * (ur - ul)\n",
    "    \n",
    "    return np.array([dy_dt, dz_dt, dv_ydt, dvz_dt, dtheta_dt, domega_dt])\n",
    "    \n",
    "# simulate\n",
    "def simulate(y0,z0,vy0,vz0,theta0,omega0,T):\n",
    "    dt = 0.01\n",
    "    t = np.linspace(0, T, int(T/dt))\n",
    "    \n",
    "    x = np.array([y0,z0,vy0,vz0,theta0,omega0])\n",
    "    X = [x]\n",
    "    U = []\n",
    "    for i in range(len(t)-1):\n",
    "        u = controller(x)\n",
    "        x = x + f(x,u)*dt\n",
    "        X.append(x)\n",
    "        U.append(u)\n",
    "    u = controller(x)\n",
    "    U.append(u)\n",
    "    \n",
    "    # outputs\n",
    "    X = np.array(X)\n",
    "    U = np.array(U)\n",
    "    return {\n",
    "        't':        t,\n",
    "        'y':        X[:,0],\n",
    "        'z':        X[:,1],\n",
    "        'vy':       X[:,2],\n",
    "        'vz':       X[:,3],\n",
    "        'theta':    X[:,4],\n",
    "        'omega':    X[:,5],\n",
    "        'ul':       U[:,0],\n",
    "        'ur':       U[:,1]\n",
    "    }"
   ]
  },
  {
   "cell_type": "code",
   "execution_count": 11,
   "metadata": {},
   "outputs": [],
   "source": [
    "from quadcopter_animation import animation2D\n",
    "import importlib\n",
    "importlib.reload(animation2D)\n",
    "\n",
    "# simulate from initial condition\n",
    "traj = simulate(y0=5, z0=5, vy0=0, vz0=0, theta0=0, omega0=0, T=10)\n",
    "animation2D.animate(traj)"
   ]
  },
  {
   "cell_type": "code",
   "execution_count": 103,
   "metadata": {},
   "outputs": [],
   "source": [
    "# simulate multiple\n",
    "num = 100\n",
    "y0 = np.random.uniform(-10.0, 10.0, num)\n",
    "z0 = np.random.uniform(-10.0, 10.0, num)\n",
    "vy0 = np.random.uniform(-5.,5., num)\n",
    "vz0 = np.random.uniform(-5.,5., num)\n",
    "theta0 = np.random.uniform(-np.pi/3, np.pi/3, num)\n",
    "omega0 = np.random.uniform(-0.01, -0.01, num)\n",
    "\n",
    "trajectories = [simulate(y0=y0[i], z0=z0[i], vy0=vy0[i], vz0=vz0[i], theta0=theta0[i], omega0=omega0[i], T=10) for i in range(num)]\n",
    "animation2D.animate(*trajectories)"
   ]
  },
  {
   "cell_type": "markdown",
   "metadata": {},
   "source": [
    "**Compare simulated trajectory with dataset**"
   ]
  },
  {
   "cell_type": "code",
   "execution_count": 104,
   "metadata": {},
   "outputs": [],
   "source": [
    "# trajectory from dataset\n",
    "index = 0\n",
    "traj_dataset = {key: dataset[key][index] for key in dataset.keys()}\n",
    "\n",
    "# simulated trajectory with the same initial condition\n",
    "initial_condition = [traj_dataset[key][0] for key in ['y','z','vy','vz','theta','omega']]\n",
    "T = traj_dataset['t'][-1]\n",
    "traj_simulated = simulate(*initial_condition, T)\n",
    "\n",
    "# animate side by side\n",
    "animation2D.animate(traj_dataset, traj_simulated)"
   ]
  },
  {
   "cell_type": "code",
   "execution_count": null,
   "metadata": {},
   "outputs": [],
   "source": []
  }
 ],
 "metadata": {
  "kernelspec": {
   "display_name": "Python 3 (ipykernel)",
   "language": "python",
   "name": "python3"
  },
  "language_info": {
   "codemirror_mode": {
    "name": "ipython",
    "version": 3
   },
   "file_extension": ".py",
   "mimetype": "text/x-python",
   "name": "python",
   "nbconvert_exporter": "python",
   "pygments_lexer": "ipython3",
   "version": "3.11.6"
  }
 },
 "nbformat": 4,
 "nbformat_minor": 4
}
