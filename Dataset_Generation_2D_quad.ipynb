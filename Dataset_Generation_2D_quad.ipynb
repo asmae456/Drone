{
 "cells": [
  {
   "cell_type": "markdown",
   "metadata": {},
   "source": [
    "# Demonstrating the dataset generation for an ampl model\n",
    "\n",
    "This notebook shows the generation of the dataset that are subsequently used to train a neural network for optimal control."
   ]
  },
  {
   "cell_type": "code",
   "execution_count": null,
   "metadata": {},
   "outputs": [],
   "source": [
    "### %pylab notebook\n",
    "from pyquad.ekin import*\n",
    "from tqdm import tqdm"
   ]
  },
  {
   "cell_type": "code",
   "execution_count": null,
   "metadata": {},
   "outputs": [],
   "source": [
    "ampl_mod_path = \"ampl/bebop_6dof.mod\"\n",
    "\n",
    "num = 100000\n",
    "\n",
    "# INITIAL CONDITIONS\n",
    "y0 = np.random.uniform(-10.0, 10.0, num)\n",
    "z0 = np.random.uniform(-10.0, 10.0, num)\n",
    "\n",
    "vy0 = np.random.uniform(-5.,5., num)\n",
    "vz0 = np.random.uniform(-5.,5., num)\n",
    "theta0 = np.random.uniform(-np.pi/3, np.pi/3, num)\n",
    "\n",
    "omega0 = np.random.uniform(-0.01, -0.01, num)\n",
    "\n",
    "\n",
    "parameters = {\n",
    "    \"y0\"    : y0,\n",
    "    \"z0\"    : z0,\n",
    "    \"vy0\"   : vy0,\n",
    "    \"vz0\"   : vz0,\n",
    "    \"theta0\": theta0,\n",
    "    \"omega0\": omega0,\n",
    "}\n",
    "\n",
    "fixed_parameters = {\n",
    "    \"yn\" : 0.0,\n",
    "    \"zn\" : 0.0,\n",
    "    \"vyn\" : 0.0,\n",
    "    \"vzn\" : 0.0,\n",
    "    \"thetan\" : 0.0,\n",
    "    \"omegan\" : 0.0,  \n",
    "    \"epsilon\" : 1.0,  \n",
    "}"
   ]
  },
  {
   "cell_type": "code",
   "execution_count": null,
   "metadata": {},
   "outputs": [],
   "source": [
    "def run_ampl_model(param_dict, file_path):\n",
    "    model = AMPLModel(ampl_mod_path)\n",
    "    model.setParameterValues(param_dict)\n",
    "    model.setParameterValues(fixed_parameters)\n",
    "    model.solve()\n",
    "    soln_vals = model.getSolutionValues()\n",
    "    obj_vals = model.getObjectiveValues()\n",
    "    # save solution to file\n",
    "    np.savez(file_path, **{\"Success\": model.checkSolved(), \"t\": soln_vals['timegrid'], **soln_vals, **obj_vals, **param_dict, **fixed_parameters})"
   ]
  },
  {
   "cell_type": "code",
   "execution_count": null,
   "metadata": {},
   "outputs": [],
   "source": [
    "name = '2D_QUAD_HOVER_EPS=0.5'\n",
    "datafolder = 'datasets/' + name\n",
    "datafile = 'datasets/' + name + '.npz'\n",
    "\n",
    "# make folder if it doesn't exist\n",
    "if not os.path.exists(datafolder):\n",
    "    os.makedirs(datafolder)"
   ]
  },
  {
   "cell_type": "code",
   "execution_count": null,
   "metadata": {},
   "outputs": [],
   "source": [
    "##### trajectories to solve\n",
    "index_set = set(range(num)) -  {int(file.replace('.npz','')) for file in os.listdir(datafolder)}\n",
    "\n",
    "# solve trajectories in parallel\n",
    "njobs = 20\n",
    "sol_lst = joblib.Parallel(njobs)(joblib.delayed(run_ampl_model)(\n",
    "    {key: val[idx] for key,val in parameters.items()},\n",
    "    datafolder + '/' + str(idx)\n",
    ") for idx in tqdm(index_set))\n",
    "\n",
    "print('Generated', num,'trajectories in', datafolder)"
   ]
  },
  {
   "cell_type": "code",
   "execution_count": null,
   "metadata": {},
   "outputs": [],
   "source": [
    "def load_file(file, datafolder):\n",
    "    try:\n",
    "        return dict(np.load(datafolder + '/' + file))\n",
    "    except:\n",
    "        return None\n",
    "\n",
    "njobs = 100\n",
    "trajectory_list = joblib.Parallel(njobs)(\n",
    "    joblib.delayed(load_file)(file, datafolder) for file in tqdm(os.listdir(datafolder))\n",
    ")\n",
    "trajectory_list = [traj for traj in trajectory_list if traj != None]"
   ]
  },
  {
   "cell_type": "code",
   "execution_count": null,
   "metadata": {},
   "outputs": [],
   "source": [
    "keys = trajectory_list[0].keys()\n",
    "trajectory_list = [traj for traj in trajectory_list if traj.keys()==keys]\n",
    "keys = keys - {key+'m' for key in keys if key+'m' in keys}\n",
    "\n",
    "dataset = {key: np.stack([traj[key] for traj in trajectory_list]) for key in tqdm(keys)}\n",
    "\n",
    "# default parameters\n",
    "params = AMPLModel(ampl_mod_path).getParameterValues()\n",
    "dataset = {**params, **dataset}\n",
    "\n",
    "# save dataset\n",
    "np.savez_compressed(datafile, **dataset)"
   ]
  },
  {
   "cell_type": "markdown",
   "metadata": {},
   "source": [
    "**Filter failed trajectories**"
   ]
  },
  {
   "cell_type": "code",
   "execution_count": null,
   "metadata": {},
   "outputs": [],
   "source": [
    "total = len(dataset['Success'])\n",
    "print('total:', total)\n",
    "\n",
    "# UNSUCCESSFUL TRAJECTORIES\n",
    "unsuccessful = np.where(dataset['Success'] == False)[0]\n",
    "print('unsuccessful:', len(unsuccessful))\n",
    "\n",
    "# OBJECTIVE TOO HIGH\n",
    "high_obj = np.where(dataset['myobjective'] > 7.0)[0]\n",
    "print('high obj:', len(high_obj))\n",
    "# outlier plot\n",
    "plt.plot(dataset['myobjective'])\n",
    "plt.axhline(7.0, color='r')\n",
    "plt.show()\n",
    "# yz plot\n",
    "idx = np.random.choice(list(high_obj), 100)\n",
    "plt.plot(dataset['y'][idx].T, dataset['z'][idx].T, color='b', alpha=0.1)\n",
    "plt.show()\n",
    "\n",
    "\n",
    "# TF TOO HIGH\n",
    "high_tf = np.where(dataset['tf'] > 7.0)[0]\n",
    "print('high tf:', len(high_tf))\n",
    "# outlier plot\n",
    "plt.plot(dataset['tf'])\n",
    "plt.axhline(7.0, color='r')\n",
    "plt.show()\n",
    "# yz plot\n",
    "idx = np.random.choice(list(high_tf), 100)\n",
    "plt.plot(dataset['y'][idx].T, dataset['z'][idx].T, color='b', alpha=0.1)\n",
    "plt.show()\n",
    "\n",
    "# THETA TOO HIGH\n",
    "high_theta = np.where(np.max(np.abs(dataset['theta']), axis=1) > np.pi)[0]\n",
    "print('high theta:', len(high_theta))\n",
    "# outlier plot\n",
    "plt.plot(np.max(np.abs(dataset['theta']), axis=1))\n",
    "plt.axhline(np.pi, color='r')\n",
    "plt.show()\n",
    "# yz plot\n",
    "idx = np.random.choice(list(high_theta), 100)\n",
    "plt.plot(dataset['y'][idx].T, dataset['z'][idx].T, color='b', alpha=0.1)\n",
    "plt.show()\n",
    "\n",
    "# FILTERED DATASET\n",
    "discard = set(unsuccessful) | set(high_obj) | set(high_tf) | set(high_theta)\n",
    "keep = set(range(total)) - discard\n",
    "print('keep:', len(keep))\n",
    "# yz plot\n",
    "idx = np.random.choice(list(keep), 100)\n",
    "plt.plot(dataset['y'][idx].T, dataset['z'][idx].T, color='b', alpha=0.1)\n",
    "plt.show()\n",
    "\n",
    "dataset_filtered = dict()\n",
    "if discard:\n",
    "    for key in tqdm(dataset.keys()):\n",
    "        # check if dataset[key] is an array\n",
    "        if isinstance(dataset[key], np.ndarray):\n",
    "            if dataset[key].shape[0] == num:\n",
    "                dataset_filtered[key] = dataset[key][list(keep)]\n",
    "        else:\n",
    "            dataset_filtered[key] = dataset[key]\n",
    "    np.savez_compressed(datafile, **dataset_filtered)"
   ]
  },
  {
   "cell_type": "markdown",
   "metadata": {},
   "source": [
    "**View Trajectories**"
   ]
  },
  {
   "cell_type": "code",
   "execution_count": null,
   "metadata": {},
   "outputs": [],
   "source": [
    "# select trajectories with objective higher than 10\n",
    "indices = keep\n",
    "\n",
    "if len(indices) > 1000:\n",
    "    indices = np.random.choice(list(indices), 1000, replace=False)\n",
    "\n",
    "trajs = [{key: dataset[key][index] for key in ['t', 'y', 'z', 'theta', 'ur', 'ul']} for index in indices]"
   ]
  },
  {
   "cell_type": "code",
   "execution_count": null,
   "metadata": {},
   "outputs": [],
   "source": [
    "from quadcopter_animation import animation2D\n",
    "\n",
    "animation2D.animate(*trajs)"
   ]
  },
  {
   "cell_type": "markdown",
   "metadata": {},
   "source": [
    "**Post Processing**"
   ]
  },
  {
   "cell_type": "code",
   "execution_count": null,
   "metadata": {},
   "outputs": [],
   "source": [
    "keys = ['t', 'y', 'z', 'vy', 'vz', 'theta', 'omega', 'ul', 'ur']\n",
    "indices = list(keep)[0:100_000]\n",
    "\n",
    "\n",
    "dataset_filtered = {key: dataset[key][indices] for key in keys}\n",
    "np.savez_compressed(datafile, **dataset_filtered)"
   ]
  },
  {
   "cell_type": "code",
   "execution_count": null,
   "metadata": {},
   "outputs": [],
   "source": [
    "# big yz plot big figure\n",
    "fig = plt.figure(figsize=(10,10))\n",
    "num = 1000\n",
    "plt.plot(dataset_filtered['y'][0:num].T, dataset_filtered['z'][0:num].T, color='b', alpha=0.1)\n",
    "plt.show()"
   ]
  },
  {
   "cell_type": "code",
   "execution_count": null,
   "metadata": {},
   "outputs": [],
   "source": []
  }
 ],
 "metadata": {
  "kernelspec": {
   "display_name": "Python 3 (ipykernel)",
   "language": "python",
   "name": "python3"
  },
  "language_info": {
   "codemirror_mode": {
    "name": "ipython",
    "version": 3
   },
   "file_extension": ".py",
   "mimetype": "text/x-python",
   "name": "python",
   "nbconvert_exporter": "python",
   "pygments_lexer": "ipython3",
   "version": "3.11.6"
  }
 },
 "nbformat": 4,
 "nbformat_minor": 2
}
