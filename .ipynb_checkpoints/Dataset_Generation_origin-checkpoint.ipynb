{
 "cells": [
  {
   "cell_type": "markdown",
   "metadata": {},
   "source": [
    "# Demonstrating the dataset generation for an ampl model\n",
    "\n",
    "This notebook shows the generation of the dataset that are subsequently used to train a neural network for optimal control."
   ]
  },
  {
   "cell_type": "code",
   "execution_count": 1,
   "metadata": {},
   "outputs": [
    {
     "name": "stdout",
     "output_type": "stream",
     "text": [
      "Warning: could not import the Controller class. If  you need it make sure pyaudi is installed\n"
     ]
    }
   ],
   "source": [
    "### %pylab notebook\n",
    "from pyquad.ekin import*\n",
    "from tqdm import tqdm"
   ]
  },
  {
   "cell_type": "code",
   "execution_count": 11,
   "metadata": {},
   "outputs": [],
   "source": [
    "ampl_mod_path = \"ampl/bebop_model_new.mod\"\n",
    "\n",
    "num = 1000\n",
    "\n",
    "# INITIAL CONDITIONS IN WORLD COORDINATES\n",
    "x0 = np.random.uniform(-5.0, 5.0, num)\n",
    "y0 = np.random.uniform(-5.0, 5.0, num)\n",
    "z0 = np.random.uniform(-1.0, 1.0, num)\n",
    "\n",
    "vx0 = np.random.uniform(-0.5,0.5, num)\n",
    "vy0 = np.random.uniform(-0.5,0.5, num)\n",
    "vz0 = np.random.uniform(-0.5,0.5, num)\n",
    "\n",
    "phi0   = np.random.uniform(-40, 40, num)*np.pi/180\n",
    "theta0 = np.random.uniform(-40, 40, num)*np.pi/180\n",
    "psi0   = np.random.uniform(-180, 180, num)*np.pi/180\n",
    "\n",
    "p0     = np.random.uniform(-1., 1., num)\n",
    "q0     = np.random.uniform(-1., 1., num)\n",
    "r0     = np.random.uniform(-1., 1., num)\n",
    "\n",
    "utau0  = np.random.uniform(0, 1, [num, 4])\n",
    "\n",
    "Mx_ext = 0*np.random.uniform(-.04, .04, num)\n",
    "My_ext = 0*np.random.uniform(-.04, .04, num)\n",
    "Mz_ext = 0*np.random.uniform(-.01, .01, num)\n",
    "\n",
    "def transform(x,y,z,vx,vy,vz, phi,theta,psi):\n",
    "    Rx = np.array([[1, 0, 0], [0, np.cos(phi), -np.sin(phi)], [0, np.sin(phi), np.cos(phi)]])\n",
    "    Ry = np.array([[np.cos(theta), 0, np.sin(theta)], [0, 1, 0], [-np.sin(theta), 0, np.cos(theta)]])\n",
    "    Rz = np.array([[np.cos(psi), -np.sin(psi), 0], [np.sin(psi), np.cos(psi), 0], [0, 0, 1]])\n",
    "    R = Rz@Ry@Rx\n",
    "    dx, dy, dz = -R.T@[x, y, z]\n",
    "    vx, vy, vz =  R.T@[vx,vy,vz]\n",
    "    return dx, dy, dz, vx, vy, vz\n",
    "\n",
    "# IN BODY COORDINATES\n",
    "dx0, dy0, dz0, vx0, vy0, vz0 = np.vectorize(transform)(x0, y0, z0, vx0, vy0, vz0, phi0, theta0, psi0)\n",
    "\n",
    "parameters = {\n",
    "        \"dx0\"    : dx0,\n",
    "        \"dy0\"    : dy0, \n",
    "        \"dz0\"    : dz0,\n",
    "        \"vx0\"    : vx0,\n",
    "        \"vy0\"    : vy0,\n",
    "        \"vz0\"    : vz0,\n",
    "        \"phi0\"   : phi0,\n",
    "        \"theta0\" : theta0,\n",
    "        \"psi0\"   : psi0,\n",
    "        \"p0\"     : p0,\n",
    "        \"q0\"     : q0,\n",
    "        \"r0\"     : r0,\n",
    "        \"utau0\"  : utau0,\n",
    "        \"Mx_ext\": Mx_ext,\n",
    "        \"My_ext\": My_ext,\n",
    "        \"Mz_ext\": Mz_ext\n",
    "}\n",
    "\n",
    "\n",
    "# FINAL CONDITIONS\n",
    "dxn = 0.\n",
    "dyn = 0.\n",
    "dzn = 0.\n",
    "\n",
    "vxn = 0.\n",
    "vyn = 0\n",
    "vzn = 0.\n",
    "\n",
    "phin = 0.\n",
    "thetan = 0.\n",
    "psin = 0.\n",
    "\n",
    "pn = 0.\n",
    "qn = 0.\n",
    "rn = 0.\n",
    "\n",
    "fixed_parameters = {\n",
    "    \"dxn\"         : dxn,\n",
    "    \"dyn\"         : dyn, \n",
    "    \"dzn\"         : dzn,\n",
    "    \"vxn\"         : vxn,\n",
    "    \"vyn\"         : vyn,\n",
    "    \"vzn\"         : vzn,\n",
    "    \"phin\"        : phin,\n",
    "    \"thetan\"      : thetan,\n",
    "    \"psin\"        : psin,\n",
    "    \"pn\"          : pn,\n",
    "    \"qn\"          : qn,\n",
    "    \"rn\"          : rn,\n",
    "    \"epsilon\"     : 1.,\n",
    "    \"n\"           : 100,\n",
    "    \"omega_max\"   : 9500,\n",
    "    \"omega_min\"   : 5500\n",
    "}"
   ]
  },
  {
   "cell_type": "code",
   "execution_count": 12,
   "metadata": {},
   "outputs": [],
   "source": [
    "def run_ampl_model(param_dict, file_path):\n",
    "    model = AMPLModel(ampl_mod_path)\n",
    "    model.setParameterValues(param_dict)\n",
    "    model.setParameterValues(fixed_parameters)\n",
    "    model.solve()\n",
    "    soln_vals = model.getSolutionValues()\n",
    "    obj_vals = model.getObjectiveValues()\n",
    "    # save solution to file\n",
    "    np.savez(file_path, **{\"Success\": model.checkSolved(), \"t\": soln_vals['timegrid'], **soln_vals, **obj_vals, **param_dict, **fixed_parameters})"
   ]
  },
  {
   "cell_type": "code",
   "execution_count": 13,
   "metadata": {},
   "outputs": [],
   "source": [
    "name = 'HOVER_TO_HOVER_NOMINAL'\n",
    "datafolder = 'datasets/' + name\n",
    "datafile = 'datasets/' + name + '.npz'\n",
    "\n",
    "# make folder if it doesn't exist\n",
    "if not os.path.exists(datafolder):\n",
    "    os.makedirs(datafolder)"
   ]
  },
  {
   "cell_type": "code",
   "execution_count": 15,
   "metadata": {},
   "outputs": [
    {
     "name": "stderr",
     "output_type": "stream",
     "text": []
    },
    {
     "name": "stdout",
     "output_type": "stream",
     "text": [
      "Warning: could not import the Controller class. If  you need it make sure pyaudi is installed\n",
      "Warning: could not import the Controller class. If  you need it make sure pyaudi is installed\n",
      "Warning: could not import the Controller class. If  you need it make sure pyaudi is installed\n",
      "Warning: could not import the Controller class. If  you need it make sure pyaudi is installed\n",
      "Warning: could not import the Controller class. If  you need it make sure pyaudi is installed\n",
      "Warning: could not import the Controller class. If  you need it make sure pyaudi is installed\n",
      "Warning: could not import the Controller class. If  you need it make sure pyaudi is installed\n",
      "Warning: could not import the Controller class. If  you need it make sure pyaudi is installed\n",
      "Warning: could not import the Controller class. If  you need it make sure pyaudi is installed\n",
      "Warning: could not import the Controller class. If  you need it make sure pyaudi is installed\n"
     ]
    },
    {
     "name": "stderr",
     "output_type": "stream",
     "text": []
    }
   ],
   "source": [
    "##### trajectories to solve\n",
    "index_set = set(range(num)) -  {int(file.replace('.npz','')) for file in os.listdir(datafolder)}\n",
    "\n",
    "# solve trajectories in parallel\n",
    "njobs = 10\n",
    "sol_lst = joblib.Parallel(njobs)(joblib.delayed(run_ampl_model)(\n",
    "    {key: val[idx] for key,val in parameters.items()},\n",
    "    datafolder + '/' + str(idx)\n",
    ") for idx in tqdm(index_set))\n",
    "\n",
    "print('Generated', num,'trajectories in', datafolder)"
   ]
  },
  {
   "cell_type": "code",
   "execution_count": 6,
   "metadata": {},
   "outputs": [
    {
     "name": "stderr",
     "output_type": "stream",
     "text": [
      "100%|██████████| 10/10 [00:00<00:00, 2134.29it/s]\n"
     ]
    }
   ],
   "source": [
    "def load_file(file, datafolder):\n",
    "    try:\n",
    "        return dict(np.load(datafolder + '/' + file))\n",
    "    except:\n",
    "        return None\n",
    "\n",
    "njobs = 100\n",
    "trajectory_list = joblib.Parallel(njobs)(\n",
    "    joblib.delayed(load_file)(file, datafolder) for file in tqdm(os.listdir(datafolder))\n",
    ")\n",
    "trajectory_list = [traj for traj in trajectory_list if traj != None]"
   ]
  },
  {
   "cell_type": "code",
   "execution_count": 7,
   "metadata": {},
   "outputs": [
    {
     "name": "stderr",
     "output_type": "stream",
     "text": [
      "100%|██████████| 73/73 [00:00<00:00, 40862.70it/s]\n"
     ]
    }
   ],
   "source": [
    "keys = trajectory_list[0].keys()\n",
    "trajectory_list = [traj for traj in trajectory_list if traj.keys()==keys]\n",
    "keys = keys - {key+'m' for key in keys if key+'m' in keys}\n",
    "\n",
    "dataset = {key: np.stack([traj[key] for traj in trajectory_list]) for key in tqdm(keys)}\n",
    "\n",
    "# default parameters\n",
    "params = AMPLModel(ampl_mod_path).getParameterValues()\n",
    "dataset = {**params, **dataset}\n",
    "\n",
    "# save dataset\n",
    "np.savez_compressed(datafile, **dataset)"
   ]
  },
  {
   "cell_type": "markdown",
   "metadata": {},
   "source": [
    "**Filter failed trajectories**"
   ]
  },
  {
   "cell_type": "code",
   "execution_count": null,
   "metadata": {},
   "outputs": [],
   "source": [
    "def filter_unsuccesful(dataset):\n",
    "    return set(np.where(dataset['Success'] == False)[0])\n",
    "\n",
    "# def filter_unphysical(dataset):\n",
    "#     unphysical_x = set(np.where(abs(dataset['dx'][:, 1:]-dataset['dx'][:, :-1]) > 0.2)[0])\n",
    "#     unphysical_y = set(np.where(abs(dataset['dy'][:, 1:]-dataset['dy'][:, :-1]) > 0.2)[0])\n",
    "#     unphysical_z = set(np.where(abs(dataset['dz'][:, 1:]-dataset['dz'][:, :-1]) > 0.2)[0])\n",
    "#     return unphysical_x | unphysical_y | unphysical_z\n",
    "\n",
    "a=np.load(datafile)\n",
    "num = a['dx'].shape[0]\n",
    "discard = filter_unsuccesful(a) #| filter_unphysical(a)\n",
    "keep = set(range(num)) - discard\n",
    "\n",
    "print(len(discard))\n",
    "print(num)\n",
    "\n",
    "if discard:\n",
    "    b = dict()\n",
    "    for key in tqdm(a.keys()):\n",
    "        if len(a[key].shape) > 0:\n",
    "            if a[key].shape[0] == num:\n",
    "                b[key] = a[key][list(keep)]\n",
    "        else:\n",
    "            b[key] = a[key]\n",
    "    np.savez_compressed(datafile, **b)"
   ]
  },
  {
   "cell_type": "markdown",
   "metadata": {},
   "source": [
    "**View trajectories**"
   ]
  },
  {
   "cell_type": "code",
   "execution_count": 8,
   "metadata": {},
   "outputs": [],
   "source": [
    "def transform_back(dx,dy,dz,vx,vy,vz,phi,theta,psi):\n",
    "    Rx = np.array([\n",
    "        [1, 0, 0],\n",
    "        [0, np.cos(phi), -np.sin(phi)],\n",
    "        [0, np.sin(phi), np.cos(phi)]\n",
    "    ])\n",
    "    Ry = np.array([\n",
    "        [np.cos(theta), 0, np.sin(theta)],\n",
    "        [0, 1, 0],\n",
    "        [-np.sin(theta), 0, np.cos(theta)]\n",
    "    ])\n",
    "    Rz = np.array([\n",
    "        [np.cos(psi), -np.sin(psi), 0],\n",
    "        [np.sin(psi), np.cos(psi), 0],\n",
    "        [0, 0, 1]\n",
    "    ])\n",
    "    R = Rz@Ry@Rx\n",
    "    x_new, y_new, z_new = -R@[dx, dy, dz]\n",
    "    vx_new, vy_new, vz_new = R@[vx, vy, vz]\n",
    "    return x_new, y_new, z_new, vx_new, vy_new, vz_new, phi, theta, psi"
   ]
  },
  {
   "cell_type": "code",
   "execution_count": 9,
   "metadata": {
    "scrolled": true
   },
   "outputs": [
    {
     "name": "stdout",
     "output_type": "stream",
     "text": [
      "10\n"
     ]
    }
   ],
   "source": [
    "%matplotlib notebook\n",
    "a = np.load(datafile)\n",
    "num = a['dx'].shape[0]\n",
    "print(num)\n",
    "\n",
    "t,dx,dy,dz,vx,vy,vz,phi,theta,psi,u = (a[key][0:1000] for key in 't dx dy dz vx vy vz phi theta psi u'.split(' '))"
   ]
  },
  {
   "cell_type": "code",
   "execution_count": 10,
   "metadata": {},
   "outputs": [],
   "source": [
    "from quadcopter_animation import animation\n",
    "import importlib\n",
    "importlib.reload(animation)\n",
    "\n",
    "x,y,z,vx,vy,vz,phi,theta,psi = np.vectorize(transform_back)(dx,dy,dz,vx,vy,vz,phi,theta,psi)\n",
    "# t,x,y,z,vx,vy,vz,phi,theta,psi,u = (a[key] for key in 't x y z vx vy vz phi theta psi u'.split(' '))\n",
    "\n",
    "animation.animate(t, x, y, z, phi, theta, psi, u, multiple_trajectories=True, simultaneous=False, step=1, waypoints=[np.array([0,0,0])], colors=[(255,0,0)]*100)"
   ]
  },
  {
   "cell_type": "code",
   "execution_count": null,
   "metadata": {},
   "outputs": [],
   "source": []
  }
 ],
 "metadata": {
  "kernelspec": {
   "display_name": "Python 3 (ipykernel)",
   "language": "python",
   "name": "python3"
  },
  "language_info": {
   "codemirror_mode": {
    "name": "ipython",
    "version": 3
   },
   "file_extension": ".py",
   "mimetype": "text/x-python",
   "name": "python",
   "nbconvert_exporter": "python",
   "pygments_lexer": "ipython3",
   "version": "3.11.6"
  }
 },
 "nbformat": 4,
 "nbformat_minor": 2
}
