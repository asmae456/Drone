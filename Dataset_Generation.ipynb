{
 "cells": [
  {
   "cell_type": "markdown",
   "metadata": {},
   "source": [
    "# Demonstrating the dataset generation for an ampl model\n",
    "\n",
    "This notebook shows the generation of the dataset that are subsequently used to train a neural network for optimal control."
   ]
  },
  {
   "cell_type": "code",
   "execution_count": 1,
   "metadata": {},
   "outputs": [
    {
     "name": "stdout",
     "output_type": "stream",
     "text": [
      "Warning: could not import the Controller class. If  you need it make sure pyaudi is installed\n"
     ]
    }
   ],
   "source": [
    "# !pip install numpy\n",
    "# !pip install matplotlib\n",
    "# !pip install joblib\n",
    "# !pip install progressbar \n",
    "# !pip install amplpy\n",
    "# !pip install tqdm\n",
    "# !pip install ampl\n",
    "### %pylab notebook\n",
    "from pyquad.ekin import*\n",
    "from tqdm import tqdm\n",
    "import numpy as np"
   ]
  },
  {
   "cell_type": "code",
   "execution_count": 3,
   "metadata": {},
   "outputs": [
    {
     "name": "stdout",
     "output_type": "stream",
     "text": [
      "Note: you may need to restart the kernel to use updated packages.\n",
      "Licensed to AMPL Academic Community Edition License for <a.elarrassi@tudelft.nl>.\n"
     ]
    }
   ],
   "source": [
    "%pip install -q amplpy\n",
    "from amplpy import AMPL, ampl_notebook\n",
    "ampl = ampl_notebook(\n",
    "    modules=[\"coin\", \"snopt\", \"highs\", \"cbc\", \"gurobi\", \"cplex\"], # pick from over 20 modules including most commercial and open-source solvers\n",
    "    license_uuid=\"d6d79098-3902-4752-9af1-f51b6b24800b\") # your license UUID (e.g., free ampl.com/ce or ampl.com/courses licenses)"
   ]
  },
  {
   "cell_type": "code",
   "execution_count": 4,
   "metadata": {},
   "outputs": [
    {
     "name": "stdout",
     "output_type": "stream",
     "text": [
      "Ipopt 3.12.13: \n",
      "\n",
      "******************************************************************************\n",
      "This program contains Ipopt, a library for large-scale nonlinear optimization.\n",
      " Ipopt is released as open source code under the Eclipse Public License (EPL).\n",
      "         For more information visit http://projects.coin-or.org/Ipopt\n",
      "******************************************************************************\n",
      "\n",
      "This is Ipopt version 3.12.13, running with linear solver mumps.\n",
      "NOTE: Other linear solvers might be more efficient (see Ipopt documentation).\n",
      "\n",
      "Number of nonzeros in equality constraint Jacobian...:        0\n",
      "Number of nonzeros in inequality constraint Jacobian.:        0\n",
      "Number of nonzeros in Lagrangian Hessian.............:        0\n",
      "\n",
      "Total number of variables............................:        1\n",
      "                     variables with only lower bounds:        0\n",
      "                variables with lower and upper bounds:        0\n",
      "                     variables with only upper bounds:        1\n",
      "Total number of equality constraints.................:        0\n",
      "Total number of inequality constraints...............:        0\n",
      "        inequality constraints with only lower bounds:        0\n",
      "   inequality constraints with lower and upper bounds:        0\n",
      "        inequality constraints with only upper bounds:        0\n",
      "\n",
      "iter    objective    inf_pr   inf_du lg(mu)  ||d||  lg(rg) alpha_du alpha_pr  ls\n",
      "   0 -0.0000000e+00 0.00e+00 1.00e+00  -1.0 0.00e+00    -  0.00e+00 0.00e+00   0\n",
      "   1 -1.9800000e+01 0.00e+00 1.00e-06  -1.0 1.99e+01    -  1.00e+00 4.97e-01f  1\n",
      "   2 -1.9997172e+01 0.00e+00 2.83e-08  -2.5 9.86e-02    -  1.00e+00 1.00e+00f  1\n",
      "   3 -1.9999850e+01 0.00e+00 1.50e-09  -3.8 1.34e-03    -  1.00e+00 1.00e+00f  1\n",
      "   4 -1.9999998e+01 0.00e+00 1.84e-11  -5.7 7.43e-05    -  1.00e+00 1.00e+00f  1\n",
      "   5 -2.0000000e+01 0.00e+00 2.49e-14  -8.6 9.21e-07    -  1.00e+00 1.00e+00f  1\n",
      "\n",
      "Number of Iterations....: 5\n",
      "\n",
      "                                   (scaled)                 (unscaled)\n",
      "Objective...............:  -2.0000000197494096e+01   -2.0000000197494096e+01\n",
      "Dual infeasibility......:   2.4868995751603507e-14    2.4868995751603507e-14\n",
      "Constraint violation....:   0.0000000000000000e+00    0.0000000000000000e+00\n",
      "Complementarity.........:   2.5059030406282855e-09    2.5059030406282855e-09\n",
      "Overall NLP error.......:   2.5059030406282855e-09    2.5059030406282855e-09\n",
      "\n",
      "\n",
      "Number of objective function evaluations             = 6\n",
      "Number of objective gradient evaluations             = 6\n",
      "Number of equality constraint evaluations            = 0\n",
      "Number of inequality constraint evaluations          = 0\n",
      "Number of equality constraint Jacobian evaluations   = 0\n",
      "Number of inequality constraint Jacobian evaluations = 0\n",
      "Number of Lagrangian Hessian evaluations             = 5\n",
      "Total CPU secs in IPOPT (w/o function evaluations)   =      0.003\n",
      "Total CPU secs in NLP function evaluations           =      0.000\n",
      "\n",
      "EXIT: Optimal Solution Found.\n",
      " \n",
      "Ipopt 3.12.13: Optimal Solution Found\n",
      "\n",
      "suffix ipopt_zU_out OUT;\n",
      "suffix ipopt_zL_out OUT;\n",
      "None\n",
      "Solved: solved\n",
      "x = 10\n",
      "Objective: 20.0\n"
     ]
    }
   ],
   "source": [
    "from amplpy import AMPL\n",
    "\n",
    "ampl = AMPL()\n",
    "\n",
    "# Set a solver — choose one that's installed\n",
    "ampl.setOption('solver', 'ipopt')  # or 'ipopt', 'gurobi', etc.\n",
    "\n",
    "# Simple model\n",
    "ampl.eval(\"\"\"\n",
    "param a;\n",
    "var x;\n",
    "maximize obj: a * x;\n",
    "s.t. constraint: x <= 10;\n",
    "\"\"\")\n",
    "\n",
    "# Set parameter value\n",
    "ampl.getParameter('a').set(2)\n",
    "\n",
    "# Solve\n",
    "solved = ampl.solve()\n",
    "\n",
    "# Output\n",
    "print(solved)\n",
    "print(\"Solved:\", ampl.getValue(\"solve_result\"))\n",
    "print(\"x =\", ampl.getValue(\"x\"))\n",
    "print(\"Objective:\", ampl.getObjective(\"obj\").value())\n"
   ]
  },
  {
   "cell_type": "code",
   "execution_count": 5,
   "metadata": {},
   "outputs": [
    {
     "ename": "NameError",
     "evalue": "name 'ampl_mod_path' is not defined",
     "output_type": "error",
     "traceback": [
      "\u001b[0;31m---------------------------------------------------------------------------\u001b[0m",
      "\u001b[0;31mNameError\u001b[0m                                 Traceback (most recent call last)",
      "Cell \u001b[0;32mIn[5], line 12\u001b[0m\n\u001b[1;32m      6\u001b[0m ampl \u001b[38;5;241m=\u001b[39m AMPL()\n\u001b[1;32m      8\u001b[0m \u001b[38;5;66;03m# Optionally specify the AMPL environment if needed\u001b[39;00m\n\u001b[1;32m      9\u001b[0m \u001b[38;5;66;03m# ampl = AMPL(Environment('/path/to/ampl'))\u001b[39;00m\n\u001b[1;32m     10\u001b[0m \n\u001b[1;32m     11\u001b[0m \u001b[38;5;66;03m# Load your model file\u001b[39;00m\n\u001b[0;32m---> 12\u001b[0m ampl\u001b[38;5;241m.\u001b[39mread(\u001b[43mampl_mod_path\u001b[49m)\n\u001b[1;32m     14\u001b[0m \u001b[38;5;66;03m# Set key parameters\u001b[39;00m\n\u001b[1;32m     15\u001b[0m ampl\u001b[38;5;241m.\u001b[39mparam[\u001b[38;5;124m'\u001b[39m\u001b[38;5;124mn\u001b[39m\u001b[38;5;124m'\u001b[39m] \u001b[38;5;241m=\u001b[39m \u001b[38;5;241m99\u001b[39m\n",
      "\u001b[0;31mNameError\u001b[0m: name 'ampl_mod_path' is not defined"
     ]
    }
   ],
   "source": [
    "from amplpy import AMPL, Environment\n",
    "import matplotlib.pyplot as plt\n",
    "import numpy as np\n",
    "\n",
    "# Load AMPL model\n",
    "ampl = AMPL()\n",
    "\n",
    "# Optionally specify the AMPL environment if needed\n",
    "# ampl = AMPL(Environment('/path/to/ampl'))\n",
    "\n",
    "# Load your model file\n",
    "ampl.read(ampl_mod_path)\n",
    "\n",
    "# Set key parameters\n",
    "ampl.param['n'] = 99\n",
    "ampl.param['epsilon'] = 0.01\n",
    "ampl.param['tn'] = 2.0\n",
    "\n",
    "# Optional: Set initial and final conditions (example)\n",
    "ampl.param['dx0'] = 0.0\n",
    "ampl.param['dy0'] = 0.0\n",
    "ampl.param['dz0'] = 0.0\n",
    "ampl.param['vxn'] = 1.0  # desired x velocity at final time\n",
    "\n",
    "# Solve\n",
    "ampl.solve()\n",
    "\n",
    "# Fetch results\n",
    "timegrid = ampl.get_variable('timegrid').to_dict()\n",
    "dx = ampl.get_variable('dx').to_dict()\n",
    "dy = ampl.get_variable('dy').to_dict()\n",
    "dz = ampl.get_variable('dz').to_dict()\n",
    "\n",
    "# Convert to arrays for plotting\n",
    "t = np.array([timegrid[i] for i in sorted(timegrid)])\n",
    "x = np.array([dx[i] for i in sorted(dx)])\n",
    "y = np.array([dy[i] for i in sorted(dy)])\n",
    "z = np.array([dz[i] for i in sorted(dz)])\n",
    "\n",
    "# Plot trajectory\n",
    "fig = plt.figure()\n",
    "ax = fig.add_subplot(111, projection='3d')\n",
    "ax.plot(x, y, z, label='Quadrotor Trajectory')\n",
    "ax.set_xlabel('X [m]')\n",
    "ax.set_ylabel('Y [m]')\n",
    "ax.set_zlabel('Z [m]')\n",
    "ax.set_title('3D Trajectory of Quadrotor')\n",
    "ax.legend()\n",
    "plt.show()\n"
   ]
  },
  {
   "cell_type": "code",
   "execution_count": 12,
   "metadata": {},
   "outputs": [],
   "source": [
    "ampl_mod_path = \"ampl/bebop_model_new.mod\"\n",
    "\n",
    "num = 1000\n",
    "\n",
    "# INITIAL CONDITIONS IN WORLD COORDINATES\n",
    "x0 = np.random.uniform(-5.0, 5.0, num)\n",
    "y0 = np.random.uniform(-5.0, 5.0, num)\n",
    "z0 = np.random.uniform(-1.0, 1.0, num)\n",
    "\n",
    "vx0 = np.random.uniform(-0.5,0.5, num)\n",
    "vy0 = np.random.uniform(-0.5,0.5, num)\n",
    "vz0 = np.random.uniform(-0.5,0.5, num)\n",
    "\n",
    "phi0   = np.random.uniform(-40, 40, num)*np.pi/180\n",
    "theta0 = np.random.uniform(-40, 40, num)*np.pi/180\n",
    "psi0   = np.random.uniform(-180, 180, num)*np.pi/180\n",
    "\n",
    "p0     = np.random.uniform(-1., 1., num)\n",
    "q0     = np.random.uniform(-1., 1., num)\n",
    "r0     = np.random.uniform(-1., 1., num)\n",
    "\n",
    "utau0  = np.random.uniform(0, 1, [num, 4])\n",
    "\n",
    "Mx_ext = 0*np.random.uniform(-.04, .04, num)\n",
    "My_ext = 0*np.random.uniform(-.04, .04, num)\n",
    "Mz_ext = 0*np.random.uniform(-.01, .01, num)\n",
    "\n",
    "def transform(x,y,z,vx,vy,vz, phi,theta,psi):\n",
    "    Rx = np.array([[1, 0, 0], [0, np.cos(phi), -np.sin(phi)], [0, np.sin(phi), np.cos(phi)]])\n",
    "    Ry = np.array([[np.cos(theta), 0, np.sin(theta)], [0, 1, 0], [-np.sin(theta), 0, np.cos(theta)]])\n",
    "    Rz = np.array([[np.cos(psi), -np.sin(psi), 0], [np.sin(psi), np.cos(psi), 0], [0, 0, 1]])\n",
    "    R = Rz@Ry@Rx\n",
    "    dx, dy, dz = -R.T@[x, y, z]\n",
    "    vx, vy, vz =  R.T@[vx,vy,vz]\n",
    "    return dx, dy, dz, vx, vy, vz\n",
    "\n",
    "# IN BODY COORDINATES\n",
    "dx0, dy0, dz0, vx0, vy0, vz0 = np.vectorize(transform)(x0, y0, z0, vx0, vy0, vz0, phi0, theta0, psi0)\n",
    "\n",
    "parameters = {\n",
    "        \"dx0\"    : dx0,\n",
    "        \"dy0\"    : dy0, \n",
    "        \"dz0\"    : dz0,\n",
    "        \"vx0\"    : vx0,\n",
    "        \"vy0\"    : vy0,\n",
    "        \"vz0\"    : vz0,\n",
    "        \"phi0\"   : phi0,\n",
    "        \"theta0\" : theta0,\n",
    "        \"psi0\"   : psi0,\n",
    "        \"p0\"     : p0,\n",
    "        \"q0\"     : q0,\n",
    "        \"r0\"     : r0,\n",
    "        \"utau0\"  : utau0,\n",
    "        \"Mx_ext\": Mx_ext,\n",
    "        \"My_ext\": My_ext,\n",
    "        \"Mz_ext\": Mz_ext\n",
    "}\n",
    "\n",
    "\n",
    "# FINAL CONDITIONS\n",
    "dxn = 0.\n",
    "dyn = 0.\n",
    "dzn = 0.\n",
    "\n",
    "vxn = 0.\n",
    "vyn = 0\n",
    "vzn = 0.\n",
    "\n",
    "phin = 0.\n",
    "thetan = 0.\n",
    "psin = 0.\n",
    "\n",
    "pn = 0.\n",
    "qn = 0.\n",
    "rn = 0.\n",
    "\n",
    "fixed_parameters = {\n",
    "    \"dxn\"         : dxn,\n",
    "    \"dyn\"         : dyn, \n",
    "    \"dzn\"         : dzn,\n",
    "    \"vxn\"         : vxn,\n",
    "    \"vyn\"         : vyn,\n",
    "    \"vzn\"         : vzn,\n",
    "    \"phin\"        : phin,\n",
    "    \"thetan\"      : thetan,\n",
    "    \"psin\"        : psin,\n",
    "    \"pn\"          : pn,\n",
    "    \"qn\"          : qn,\n",
    "    \"rn\"          : rn,\n",
    "    \"epsilon\"     : 1.,\n",
    "    \"n\"           : 100,\n",
    "    \"omega_max\"   : 9500,\n",
    "    \"omega_min\"   : 5500\n",
    "}"
   ]
  },
  {
   "cell_type": "code",
   "execution_count": 13,
   "metadata": {},
   "outputs": [
    {
     "name": "stdout",
     "output_type": "stream",
     "text": [
      "here\n",
      "True\n",
      "Solve Result: solved\n",
      "Solve Message:  \n",
      "Ipopt 3.12.13: Optimal Solution Found\n",
      "True\n",
      "Solved: solved\n",
      "test_out solved: True\n",
      "True\n",
      "AMPL Output:\n",
      "Solve Message:  \n",
      "Ipopt 3.12.13: Optimal Solution Found\n"
     ]
    }
   ],
   "source": [
    "def run_ampl_model(param_dict, file_path):\n",
    "    print(\"here\")\n",
    "    model = AMPLModel(ampl_mod_path)\n",
    "    # model = AMPL()\n",
    "    # model.read(ampl_mod_path)\n",
    "    all_params = {**param_dict, **fixed_parameters}\n",
    "    model.setParameterValues(all_params)\n",
    "    # model.setParameterValues(fixed_parameters)\n",
    "    model.ampl.setOption('solver', 'ipopt')\n",
    "    # model.ampl.setOption('solver_options', 'max_iter=500 tol=1e-6')\n",
    "\n",
    "    solved = model.solve()\n",
    "    print(solved)\n",
    "    print(\"Solve Result:\", model.ampl.getValue(\"solve_result\"))\n",
    "    print(\"Solve Message:\", model.ampl.getValue(\"solve_message\"))\n",
    "    # print(\"Solver status:\", model.ampl.getValue(\"solve_result_code\"))\n",
    "    print(model.solve())\n",
    "    print(\"Solved:\", model.ampl.getValue(\"solve_result\"))\n",
    "    # solved = model.checkSolved()\n",
    "    print(f\"{file_path} solved: {solved}\")\n",
    "    print(solved)  # Any solver messages/errors\n",
    "    print(\"AMPL Output:\")\n",
    "    # print(model.ampl.getOutput())\n",
    "\n",
    "    print(\"Solve Message:\", model.ampl.getValue('solve_message'))\n",
    "    soln_vals = model.getSolutionValues()\n",
    "    obj_vals = model.getObjectiveValues()\n",
    "    np.savez(file_path, **{\n",
    "        \"Success\": solved,\n",
    "        \"t\": soln_vals['timegrid'],\n",
    "        **soln_vals,\n",
    "        **obj_vals,\n",
    "        **param_dict,\n",
    "        **fixed_parameters\n",
    "    })\n",
    "\n",
    "from amplpy import AMPL\n",
    "import numpy as np\n",
    "\n",
    "def run_ampl_model1(param_dict, fixed_parameters, ampl_mod_path, file_path):\n",
    "    print(\"Starting AMPL model run\")\n",
    "\n",
    "    ampl = AMPL()\n",
    "    ampl.read(ampl_mod_path)\n",
    "\n",
    "    # Set parameters in AMPL model\n",
    "    for param_name, value in {**param_dict, **fixed_parameters}.items():\n",
    "        ampl.getParameter(param_name).set(value)\n",
    "\n",
    "    ampl.setOption('solver', 'ipopt')\n",
    "    # ampl.setOption('solver_options', 'max_iter=500 tol=1e-6')\n",
    "\n",
    "    solved = ampl.solve()\n",
    "\n",
    "    print(\"Solve Result:\", ampl.getValue(\"solve_result\"))\n",
    "    print(\"Solve Message:\", ampl.getValue(\"solve_message\"))\n",
    "    print(\"Solved:\", solved)\n",
    "    print(f\"{file_path} solved: {solved}\")\n",
    "\n",
    "    # Extract solution values - assuming your model defines these sets/variables\n",
    "    # This depends on your model; here are some generic examples:\n",
    "\n",
    "    soln_vals = {}\n",
    "    obj_vals = {}\n",
    "\n",
    "    # For example, if your model has variables 'timegrid' and objectives\n",
    "    if 'timegrid' in ampl.getVariableNames():\n",
    "        soln_vals['timegrid'] = ampl.getVariable('timegrid').getValues().toList()\n",
    "\n",
    "    # Get objective values\n",
    "    for obj_name in ampl.getObjectiveNames():\n",
    "        obj_vals[obj_name] = ampl.getObjective(obj_name).value()\n",
    "\n",
    "    np.savez(file_path, **{\n",
    "        \"Success\": solved,\n",
    "        **soln_vals,\n",
    "        **obj_vals,\n",
    "        **param_dict,\n",
    "        **fixed_parameters\n",
    "    })\n",
    "\n",
    "    print(f\"Results saved to {file_path}\")\n",
    "\n",
    "\n",
    "run_ampl_model({key: val[0] for key, val in parameters.items()}, 'test_out')\n"
   ]
  },
  {
   "cell_type": "code",
   "execution_count": 14,
   "metadata": {},
   "outputs": [
    {
     "name": "stdout",
     "output_type": "stream",
     "text": [
      "Attempt 1/20\n",
      "{'dx0': -0.0021796507595872976, 'dy0': 1.4270149752867922, 'dz0': -0.2671937129041948, 'vx0': 0.22248595411498212, 'vy0': -0.4418718091276435, 'vz0': -0.16007083990629223, 'phi0': 0.2212216383827999, 'theta0': 0.5781525205759003, 'psi0': -0.9740202575745861, 'p0': -0.04923848260304875, 'q0': 0.23590269943762543, 'r0': -0.8464340653421034, 'utau0': array([0.08872825, 0.39488137, 0.48009658, 0.14664805]), 'Mx_ext': 0.0, 'My_ext': -0.0, 'Mz_ext': 0.0}\n",
      "here\n",
      "True\n",
      "Solve Result: solved\n",
      "Solve Message:  \n",
      "Ipopt 3.12.13: Optimal Solution Found\n",
      "True\n",
      "Solved: solved\n",
      "test_out_attempt_0 solved: True\n",
      "True\n",
      "AMPL Output:\n",
      "Solve Message:  \n",
      "Ipopt 3.12.13: Optimal Solution Found\n",
      "Model solved successfully!\n"
     ]
    }
   ],
   "source": [
    "def try_different_params(max_attempts=20):\n",
    "    for attempt in range(max_attempts):\n",
    "        print(f\"Attempt {attempt+1}/{max_attempts}\")\n",
    "        # ... generate parameters as before ...\n",
    "\n",
    "        # Transform to body coordinates\n",
    "        dx0, dy0, dz0, vx0_b, vy0_b, vz0_b = np.vectorize(transform)(x0, y0, z0, vx0, vy0, vz0, phi0, theta0, psi0)\n",
    "\n",
    "        parameters = {\n",
    "            \"dx0\": dx0,\n",
    "            \"dy0\": dy0,\n",
    "            \"dz0\": dz0,\n",
    "            \"vx0\": vx0_b,\n",
    "            \"vy0\": vy0_b,\n",
    "            \"vz0\": vz0_b,\n",
    "            \"phi0\": phi0,\n",
    "            \"theta0\": theta0,\n",
    "            \"psi0\": psi0,\n",
    "            \"p0\": p0,\n",
    "            \"q0\": q0,\n",
    "            \"r0\": r0,\n",
    "            \"utau0\": utau0,\n",
    "            \"Mx_ext\": Mx_ext,\n",
    "            \"My_ext\": My_ext,\n",
    "            \"Mz_ext\": Mz_ext\n",
    "        }\n",
    "        # print(parameters)\n",
    "\n",
    "        # Convert single-element arrays to scalars for AMPL\n",
    "        parameters_fixed = {\n",
    "            key: val.item() if isinstance(val, np.ndarray) and val.size == 1 else val\n",
    "            for key, val in parameters.items()\n",
    "        }\n",
    "        # Choose index 0 (or random index) for this attempt:\n",
    "        i = 0\n",
    "        parameters_fixed = {\n",
    "            \"dx0\": dx0[i].item(),\n",
    "            \"dy0\": dy0[i].item(),\n",
    "            \"dz0\": dz0[i].item(),\n",
    "            \"vx0\": vx0_b[i].item(),\n",
    "            \"vy0\": vy0_b[i].item(),\n",
    "            \"vz0\": vz0_b[i].item(),\n",
    "            \"phi0\": phi0[i].item(),\n",
    "            \"theta0\": theta0[i].item(),\n",
    "            \"psi0\": psi0[i].item(),\n",
    "            \"p0\": p0[i].item(),\n",
    "            \"q0\": q0[i].item(),\n",
    "            \"r0\": r0[i].item(),\n",
    "            \"utau0\": utau0[i],  # Assuming utau0 is shape (1000,4), pass the 4-length array for this i\n",
    "            \"Mx_ext\": Mx_ext[i].item(),\n",
    "            \"My_ext\": My_ext[i].item(),\n",
    "            \"Mz_ext\": Mz_ext[i].item()\n",
    "        }\n",
    "\n",
    "\n",
    "        try:\n",
    "            print(parameters_fixed)\n",
    "            run_ampl_model({key: val[999] for key, val in parameters.items()}, f'test_out_attempt_{attempt}')\n",
    "            print(\"Model solved successfully!\")\n",
    "            return  # Exit on first success\n",
    "        except Exception as e:\n",
    "            print(\"Failed to solve model:\", e)\n",
    "            print(\"Trying next parameters...\\n\")\n",
    "\n",
    "    print(\"All attempts failed. Try adjusting parameter ranges or model constraints.\")\n",
    "\n",
    "# Run the parameter trying function\n",
    "try_different_params(20)\n"
   ]
  },
  {
   "cell_type": "code",
   "execution_count": 15,
   "metadata": {},
   "outputs": [],
   "source": [
    "name = 'HOVER_TO_HOVER_NOMINAL'\n",
    "datafolder = 'datasets/' + name\n",
    "datafile = 'datasets/' + name + '.npz'\n",
    "\n",
    "# make folder if it doesn't exist\n",
    "if not os.path.exists(datafolder):\n",
    "    os.makedirs(datafolder)"
   ]
  },
  {
   "cell_type": "code",
   "execution_count": null,
   "metadata": {},
   "outputs": [],
   "source": [
    "# Determine which trajectories to solve\n",
    "index_set = set(range(num)) - {\n",
    "    int(file.replace('.npz', ''))\n",
    "    for file in os.listdir(datafolder)\n",
    "    if file.endswith('.npz') and file.replace('.npz', '').isdigit()\n",
    "}\n",
    "# index_set = range(0,999)\n",
    "print(f\"To solve: {len(index_set)} / {num}\")\n",
    "\n",
    "# Solve trajectories in a regular loop\n",
    "sol_lst = []\n",
    "for idx in tqdm(sorted(index_set)):\n",
    "    param_values = {key: val[idx] for key, val in parameters.items()}\n",
    "    save_path = os.path.join(datafolder, str(idx))\n",
    "    sol = run_ampl_model(param_values, save_path)\n",
    "    sol_lst.append(sol)\n",
    "\n",
    "print('Generated', len(sol_lst), 'trajectories in', datafolder)\n"
   ]
  },
  {
   "cell_type": "code",
   "execution_count": 80,
   "metadata": {},
   "outputs": [
    {
     "name": "stdout",
     "output_type": "stream",
     "text": [
      "{0, 1, 2, 3, 4, 5, 6, 7, 8, 9, 10, 11, 12, 13, 14, 15, 16, 17, 18, 19, 20, 21, 22, 23, 24, 25, 26, 27, 28, 29, 30, 31, 32, 33, 34, 35, 36, 37, 38, 39, 40, 41, 42, 43, 44, 45, 46, 47, 48, 49, 50, 51, 52, 53, 54, 55, 56, 57, 58, 59, 60, 61, 62, 63, 64, 65, 66, 67, 68, 69, 70, 71, 72, 73, 74, 75, 76, 77, 78, 79, 80, 81, 82, 83, 84, 85, 86, 87, 88, 89, 90, 91, 92, 93, 94, 95, 96, 97, 98, 99, 100, 101, 102, 103, 104, 105, 106, 107, 108, 109, 110, 111, 112, 113, 114, 115, 116, 117, 118, 119, 120, 121, 122, 123, 124, 125, 126, 127, 128, 129, 130, 131, 132, 133, 134, 135, 136, 137, 138, 139, 140, 141, 142, 143, 144, 145, 146, 147, 148, 149, 150, 151, 152, 153, 154, 155, 156, 157, 158, 159, 160, 161, 162, 163, 164, 165, 166, 167, 168, 169, 170, 171, 172, 173, 174, 175, 176, 177, 178, 179, 180, 181, 182, 183, 184, 185, 186, 187, 188, 189, 190, 191, 192, 193, 194, 195, 196, 197, 198, 199, 200, 201, 202, 203, 204, 205, 206, 207, 208, 209, 210, 211, 212, 213, 214, 215, 216, 217, 218, 219, 220, 221, 222, 223, 224, 225, 226, 227, 228, 229, 230, 231, 232, 233, 234, 235, 236, 237, 238, 239, 240, 241, 242, 243, 244, 245, 246, 247, 248, 249, 250, 251, 252, 253, 254, 255, 256, 257, 258, 259, 260, 261, 262, 263, 264, 265, 266, 267, 268, 269, 270, 271, 272, 273, 274, 275, 276, 277, 278, 279, 280, 281, 282, 283, 284, 285, 286, 287, 288, 289, 290, 291, 292, 293, 294, 295, 296, 297, 298, 299, 300, 301, 302, 303, 304, 305, 306, 307, 308, 309, 310, 311, 312, 313, 314, 315, 316, 317, 318, 319, 320, 321, 322, 323, 324, 325, 326, 327, 328, 329, 330, 331, 332, 333, 334, 335, 336, 337, 338, 339, 340, 341, 342, 343, 344, 345, 346, 347, 348, 349, 350, 351, 352, 353, 354, 355, 356, 357, 358, 359, 360, 361, 362, 363, 364, 365, 366, 367, 368, 369, 370, 371, 372, 373, 374, 375, 376, 377, 378, 379, 380, 381, 382, 383, 384, 385, 386, 387, 388, 389, 390, 391, 392, 393, 394, 395, 396, 397, 398, 399, 400, 401, 402, 403, 404, 405, 406, 407, 408, 409, 410, 411, 412, 413, 414, 415, 416, 417, 418, 419, 420, 421, 422, 423, 424, 425, 426, 427, 428, 429, 430, 431, 432, 433, 434, 435, 436, 437, 438, 439, 440, 441, 442, 443, 444, 445, 446, 447, 448, 449, 450, 451, 452, 453, 454, 455, 456, 457, 458, 459, 460, 461, 462, 463, 464, 465, 466, 467, 468, 469, 470, 471, 472, 473, 474, 475, 476, 477, 478, 479, 480, 481, 482, 483, 484, 485, 486, 487, 488, 489, 490, 491, 492, 493, 494, 495, 496, 497, 498, 499, 500, 501, 502, 503, 504, 505, 506, 507, 508, 509, 510, 511, 512, 513, 514, 515, 516, 517, 518, 519, 520, 521, 522, 523, 524, 525, 526, 527, 528, 529, 530, 531, 532, 533, 534, 535, 536, 537, 538, 539, 540, 541, 542, 543, 544, 545, 546, 547, 548, 549, 550, 551, 552, 553, 554, 555, 556, 557, 558, 559, 560, 561, 562, 563, 564, 565, 566, 567, 568, 569, 570, 571, 572, 573, 574, 575, 576, 577, 578, 579, 580, 581, 582, 583, 584, 585, 586, 587, 588, 589, 590, 591, 592, 593, 594, 595, 596, 597, 598, 599, 600, 601, 602, 603, 604, 605, 606, 607, 608, 609, 610, 611, 612, 613, 614, 615, 616, 617, 618, 619, 620, 621, 622, 623, 624, 625, 626, 627, 628, 629, 630, 631, 632, 633, 634, 635, 636, 637, 638, 639, 640, 641, 642, 643, 644, 645, 646, 647, 648, 649, 650, 651, 652, 653, 654, 655, 656, 657, 658, 659, 660, 661, 662, 663, 664, 665, 666, 667, 668, 669, 670, 671, 672, 673, 674, 675, 676, 677, 678, 679, 680, 681, 682, 683, 684, 685, 686, 687, 688, 689, 690, 691, 692, 693, 694, 695, 696, 697, 698, 699, 700, 701, 702, 703, 704, 705, 706, 707, 708, 709, 710, 711, 712, 713, 714, 715, 716, 717, 718, 719, 720, 721, 722, 723, 724, 725, 726, 727, 728, 729, 730, 731, 732, 733, 734, 735, 736, 737, 738, 739, 740, 741, 742, 743, 744, 745, 746, 747, 748, 749, 750, 751, 752, 753, 754, 755, 756, 757, 758, 759, 760, 761, 762, 763, 764, 765, 766, 767, 768, 769, 770, 771, 772, 773, 774, 775, 776, 777, 778, 779, 780, 781, 782, 783, 784, 785, 786, 787, 788, 789, 790, 791, 792, 793, 794, 795, 796, 797, 798, 799, 800, 801, 802, 803, 804, 805, 806, 807, 808, 809, 810, 811, 812, 813, 814, 815, 816, 817, 818, 819, 820, 821, 822, 823, 824, 825, 826, 827, 828, 829, 830, 831, 832, 833, 834, 835, 836, 837, 838, 839, 840, 841, 842, 843, 844, 845, 846, 847, 848, 849, 850, 851, 852, 853, 854, 855, 856, 857, 858, 859, 860, 861, 862, 863, 864, 865, 866, 867, 868, 869, 870, 871, 872, 873, 874, 875, 876, 877, 878, 879, 880, 881, 882, 883, 884, 885, 886, 887, 888, 889, 890, 891, 892, 893, 894, 895, 896, 897, 898, 899, 900, 901, 902, 903, 904, 905, 906, 907, 908, 909, 910, 911, 912, 913, 914, 915, 916, 917, 918, 919, 920, 921, 922, 923, 924, 925, 926, 927, 928, 929, 930, 931, 932, 933, 934, 935, 936, 937, 938, 939, 940, 941, 942, 943, 944, 945, 946, 947, 948, 949, 950, 951, 952, 953, 954, 955, 956, 957, 958, 959, 960, 961, 962, 963, 964, 965, 966, 967, 968, 969, 970, 971, 972, 973, 974, 975, 976, 977, 978, 979, 980, 981, 982, 983, 984, 985, 986, 987, 988, 989, 990, 991, 992, 993, 994, 995, 996, 997, 998, 999}\n"
     ]
    }
   ],
   "source": [
    "def find_failed(datafolder):\n",
    "    failed = set()\n",
    "    for file in os.listdir(datafolder):\n",
    "        if file.endswith('.npz') and file.replace('.npz', '').isdigit():\n",
    "            idx = int(file.replace('.npz', ''))\n",
    "            data = np.load(os.path.join(datafolder, file))\n",
    "            if not data.get('Success', True):  # default True if missing\n",
    "                failed.add(idx)\n",
    "                # print(idx)\n",
    "    return failed\n",
    "\n",
    "index_set = find_failed(datafolder)\n",
    "print(index_set)"
   ]
  },
  {
   "cell_type": "code",
   "execution_count": 81,
   "metadata": {},
   "outputs": [
    {
     "name": "stderr",
     "output_type": "stream",
     "text": [
      "100%|███████████████████████████████████████████████████████████████████████████████| 1000/1000 [00:03<00:00, 257.41it/s]\n"
     ]
    }
   ],
   "source": [
    "def load_file(file, datafolder):\n",
    "    try:\n",
    "        return dict(np.load(datafolder + '/' + file))\n",
    "    except:\n",
    "        return None\n",
    "\n",
    "njobs = 100\n",
    "trajectory_list = joblib.Parallel(njobs)(\n",
    "    joblib.delayed(load_file)(file, datafolder) for file in tqdm(os.listdir(datafolder))\n",
    ")\n",
    "trajectory_list = [traj for traj in trajectory_list if traj != None]"
   ]
  },
  {
   "cell_type": "code",
   "execution_count": 82,
   "metadata": {},
   "outputs": [
    {
     "name": "stderr",
     "output_type": "stream",
     "text": [
      "100%|███████████████████████████████████████████████████████████████████████████████████| 73/73 [00:00<00:00, 532.36it/s]\n"
     ]
    },
    {
     "name": "stdout",
     "output_type": "stream",
     "text": [
      "datasets/HOVER_TO_HOVER_NOMINAL.npz\n"
     ]
    }
   ],
   "source": [
    "keys = trajectory_list[0].keys()\n",
    "trajectory_list = [traj for traj in trajectory_list if traj.keys()==keys]\n",
    "keys = keys - {key+'m' for key in keys if key+'m' in keys}\n",
    "\n",
    "dataset = {key: np.stack([traj[key] for traj in trajectory_list]) for key in tqdm(keys)}\n",
    "\n",
    "# default parameters\n",
    "params = AMPLModel(ampl_mod_path).getParameterValues()\n",
    "dataset = {**params, **dataset}\n",
    "print(datafile)\n",
    "# save dataset\n",
    "np.savez_compressed(datafile, **dataset)"
   ]
  },
  {
   "cell_type": "markdown",
   "metadata": {},
   "source": [
    "**Filter failed trajectories**"
   ]
  },
  {
   "cell_type": "code",
   "execution_count": 83,
   "metadata": {},
   "outputs": [
    {
     "name": "stdout",
     "output_type": "stream",
     "text": [
      "1000\n",
      "1000\n",
      "Unsuccessful trajectories: 1000\n",
      "Total trajectories: 1000\n",
      "Kept trajectories: 0\n"
     ]
    },
    {
     "name": "stderr",
     "output_type": "stream",
     "text": [
      "100%|█████████████████████████████████████████████████████████████████████████████████| 100/100 [00:00<00:00, 257.12it/s]\n"
     ]
    }
   ],
   "source": [
    "def filter_unsuccesful(dataset):\n",
    "    return set(np.where(dataset['Success'] == False)[0])\n",
    "\n",
    "# def filter_unphysical(dataset):\n",
    "#     unphysical_x = set(np.where(abs(dataset['dx'][:, 1:]-dataset['dx'][:, :-1]) > 0.2)[0])\n",
    "#     unphysical_y = set(np.where(abs(dataset['dy'][:, 1:]-dataset['dy'][:, :-1]) > 0.2)[0])\n",
    "#     unphysical_z = set(np.where(abs(dataset['dz'][:, 1:]-dataset['dz'][:, :-1]) > 0.2)[0])\n",
    "#     return unphysical_x | unphysical_y | unphysical_z\n",
    "\n",
    "a=np.load(datafile)\n",
    "num = a['dx'].shape[0]\n",
    "discard = filter_unsuccesful(a) #| filter_unphysical(a)\n",
    "keep = set(range(num)) - discard\n",
    "\n",
    "print(len(discard))\n",
    "print(num)\n",
    "\n",
    "print(\"Unsuccessful trajectories:\", len(discard))\n",
    "print(\"Total trajectories:\", num)\n",
    "print(\"Kept trajectories:\", len(keep))\n",
    "\n",
    "\n",
    "if discard:\n",
    "    b = dict()\n",
    "    for key in tqdm(a.keys()):\n",
    "        if len(a[key].shape) > 0:\n",
    "            if a[key].shape[0] == num:\n",
    "                b[key] = a[key][list(keep)]\n",
    "        else:\n",
    "            b[key] = a[key]\n",
    "    np.savez_compressed(datafile, **b)"
   ]
  },
  {
   "cell_type": "markdown",
   "metadata": {},
   "source": [
    "**View trajectories**"
   ]
  },
  {
   "cell_type": "code",
   "execution_count": 74,
   "metadata": {},
   "outputs": [
    {
     "name": "stdout",
     "output_type": "stream",
     "text": [
      "a = 2\n",
      "\n",
      "AMPL solve failed: 'AMPLModel' object has no attribute 'getLog'\n"
     ]
    }
   ],
   "source": [
    "from amplpy import AMPL\n",
    "\n",
    "ampl = AMPL()\n",
    "ampl.eval('param a; let a := 2; display a;')\n",
    "model = AMPLModel(ampl_mod_path)\n",
    "model.setParameterValues({key: val[0] for key, val in parameters.items()})\n",
    "\n",
    "try:\n",
    "    model.solve()\n",
    "    print(\"Solved:\", model.checkSolved())\n",
    "    print(\"Objective value:\", model.getObjectiveValues())\n",
    "except Exception as e:\n",
    "    print(\"AMPL solve failed:\", e)\n"
   ]
  },
  {
   "cell_type": "code",
   "execution_count": 8,
   "metadata": {},
   "outputs": [],
   "source": [
    "def transform_back(dx,dy,dz,vx,vy,vz,phi,theta,psi):\n",
    "    Rx = np.array([\n",
    "        [1, 0, 0],\n",
    "        [0, np.cos(phi), -np.sin(phi)],\n",
    "        [0, np.sin(phi), np.cos(phi)]\n",
    "    ])\n",
    "    Ry = np.array([\n",
    "        [np.cos(theta), 0, np.sin(theta)],\n",
    "        [0, 1, 0],\n",
    "        [-np.sin(theta), 0, np.cos(theta)]\n",
    "    ])\n",
    "    Rz = np.array([\n",
    "        [np.cos(psi), -np.sin(psi), 0],\n",
    "        [np.sin(psi), np.cos(psi), 0],\n",
    "        [0, 0, 1]\n",
    "    ])\n",
    "    R = Rz@Ry@Rx\n",
    "    x_new, y_new, z_new = -R@[dx, dy, dz]\n",
    "    vx_new, vy_new, vz_new = R@[vx, vy, vz]\n",
    "    return x_new, y_new, z_new, vx_new, vy_new, vz_new, phi, theta, psi"
   ]
  },
  {
   "cell_type": "code",
   "execution_count": 9,
   "metadata": {
    "scrolled": true
   },
   "outputs": [
    {
     "name": "stdout",
     "output_type": "stream",
     "text": [
      "0\n"
     ]
    }
   ],
   "source": [
    "%matplotlib notebook\n",
    "a = np.load(datafile)\n",
    "num = a['dx'].shape[0]\n",
    "print(num)\n",
    "\n",
    "t,dx,dy,dz,vx,vy,vz,phi,theta,psi,u = (a[key][0:1000] for key in 't dx dy dz vx vy vz phi theta psi u'.split(' '))"
   ]
  },
  {
   "cell_type": "code",
   "execution_count": 10,
   "metadata": {
    "scrolled": true
   },
   "outputs": [
    {
     "ename": "ValueError",
     "evalue": "cannot call `vectorize` on size 0 inputs unless `otypes` is set",
     "output_type": "error",
     "traceback": [
      "\u001b[0;31m---------------------------------------------------------------------------\u001b[0m",
      "\u001b[0;31mValueError\u001b[0m                                Traceback (most recent call last)",
      "Cell \u001b[0;32mIn[10], line 6\u001b[0m\n\u001b[1;32m      3\u001b[0m \u001b[38;5;28;01mimport\u001b[39;00m\u001b[38;5;250m \u001b[39m\u001b[38;5;21;01mimportlib\u001b[39;00m\n\u001b[1;32m      4\u001b[0m importlib\u001b[38;5;241m.\u001b[39mreload(animation)\n\u001b[0;32m----> 6\u001b[0m x,y,z,vx,vy,vz,phi,theta,psi \u001b[38;5;241m=\u001b[39m \u001b[43mnp\u001b[49m\u001b[38;5;241;43m.\u001b[39;49m\u001b[43mvectorize\u001b[49m\u001b[43m(\u001b[49m\u001b[43mtransform_back\u001b[49m\u001b[43m)\u001b[49m\u001b[43m(\u001b[49m\u001b[43mdx\u001b[49m\u001b[43m,\u001b[49m\u001b[43mdy\u001b[49m\u001b[43m,\u001b[49m\u001b[43mdz\u001b[49m\u001b[43m,\u001b[49m\u001b[43mvx\u001b[49m\u001b[43m,\u001b[49m\u001b[43mvy\u001b[49m\u001b[43m,\u001b[49m\u001b[43mvz\u001b[49m\u001b[43m,\u001b[49m\u001b[43mphi\u001b[49m\u001b[43m,\u001b[49m\u001b[43mtheta\u001b[49m\u001b[43m,\u001b[49m\u001b[43mpsi\u001b[49m\u001b[43m)\u001b[49m\n\u001b[1;32m      7\u001b[0m \u001b[38;5;66;03m# t,x,y,z,vx,vy,vz,phi,theta,psi,u = (a[key] for key in 't x y z vx vy vz phi theta psi u'.split(' '))\u001b[39;00m\n\u001b[1;32m      9\u001b[0m animation\u001b[38;5;241m.\u001b[39manimate(t, x, y, z, phi, theta, psi, u, multiple_trajectories\u001b[38;5;241m=\u001b[39m\u001b[38;5;28;01mTrue\u001b[39;00m, simultaneous\u001b[38;5;241m=\u001b[39m\u001b[38;5;28;01mFalse\u001b[39;00m, step\u001b[38;5;241m=\u001b[39m\u001b[38;5;241m1\u001b[39m, waypoints\u001b[38;5;241m=\u001b[39m[np\u001b[38;5;241m.\u001b[39marray([\u001b[38;5;241m0\u001b[39m,\u001b[38;5;241m0\u001b[39m,\u001b[38;5;241m0\u001b[39m])], colors\u001b[38;5;241m=\u001b[39m[(\u001b[38;5;241m255\u001b[39m,\u001b[38;5;241m0\u001b[39m,\u001b[38;5;241m0\u001b[39m)]\u001b[38;5;241m*\u001b[39m\u001b[38;5;241m100\u001b[39m)\n",
      "File \u001b[0;32m~/environments/drone_env/lib/python3.10/site-packages/numpy/lib/function_base.py:2372\u001b[0m, in \u001b[0;36mvectorize.__call__\u001b[0;34m(self, *args, **kwargs)\u001b[0m\n\u001b[1;32m   2369\u001b[0m     \u001b[38;5;28mself\u001b[39m\u001b[38;5;241m.\u001b[39m_init_stage_2(\u001b[38;5;241m*\u001b[39margs, \u001b[38;5;241m*\u001b[39m\u001b[38;5;241m*\u001b[39mkwargs)\n\u001b[1;32m   2370\u001b[0m     \u001b[38;5;28;01mreturn\u001b[39;00m \u001b[38;5;28mself\u001b[39m\n\u001b[0;32m-> 2372\u001b[0m \u001b[38;5;28;01mreturn\u001b[39;00m \u001b[38;5;28;43mself\u001b[39;49m\u001b[38;5;241;43m.\u001b[39;49m\u001b[43m_call_as_normal\u001b[49m\u001b[43m(\u001b[49m\u001b[38;5;241;43m*\u001b[39;49m\u001b[43margs\u001b[49m\u001b[43m,\u001b[49m\u001b[43m \u001b[49m\u001b[38;5;241;43m*\u001b[39;49m\u001b[38;5;241;43m*\u001b[39;49m\u001b[43mkwargs\u001b[49m\u001b[43m)\u001b[49m\n",
      "File \u001b[0;32m~/environments/drone_env/lib/python3.10/site-packages/numpy/lib/function_base.py:2365\u001b[0m, in \u001b[0;36mvectorize._call_as_normal\u001b[0;34m(self, *args, **kwargs)\u001b[0m\n\u001b[1;32m   2362\u001b[0m     vargs \u001b[38;5;241m=\u001b[39m [args[_i] \u001b[38;5;28;01mfor\u001b[39;00m _i \u001b[38;5;129;01min\u001b[39;00m inds]\n\u001b[1;32m   2363\u001b[0m     vargs\u001b[38;5;241m.\u001b[39mextend([kwargs[_n] \u001b[38;5;28;01mfor\u001b[39;00m _n \u001b[38;5;129;01min\u001b[39;00m names])\n\u001b[0;32m-> 2365\u001b[0m \u001b[38;5;28;01mreturn\u001b[39;00m \u001b[38;5;28;43mself\u001b[39;49m\u001b[38;5;241;43m.\u001b[39;49m\u001b[43m_vectorize_call\u001b[49m\u001b[43m(\u001b[49m\u001b[43mfunc\u001b[49m\u001b[38;5;241;43m=\u001b[39;49m\u001b[43mfunc\u001b[49m\u001b[43m,\u001b[49m\u001b[43m \u001b[49m\u001b[43margs\u001b[49m\u001b[38;5;241;43m=\u001b[39;49m\u001b[43mvargs\u001b[49m\u001b[43m)\u001b[49m\n",
      "File \u001b[0;32m~/environments/drone_env/lib/python3.10/site-packages/numpy/lib/function_base.py:2450\u001b[0m, in \u001b[0;36mvectorize._vectorize_call\u001b[0;34m(self, func, args)\u001b[0m\n\u001b[1;32m   2448\u001b[0m     res \u001b[38;5;241m=\u001b[39m func()\n\u001b[1;32m   2449\u001b[0m \u001b[38;5;28;01melse\u001b[39;00m:\n\u001b[0;32m-> 2450\u001b[0m     ufunc, otypes \u001b[38;5;241m=\u001b[39m \u001b[38;5;28;43mself\u001b[39;49m\u001b[38;5;241;43m.\u001b[39;49m\u001b[43m_get_ufunc_and_otypes\u001b[49m\u001b[43m(\u001b[49m\u001b[43mfunc\u001b[49m\u001b[38;5;241;43m=\u001b[39;49m\u001b[43mfunc\u001b[49m\u001b[43m,\u001b[49m\u001b[43m \u001b[49m\u001b[43margs\u001b[49m\u001b[38;5;241;43m=\u001b[39;49m\u001b[43margs\u001b[49m\u001b[43m)\u001b[49m\n\u001b[1;32m   2452\u001b[0m     \u001b[38;5;66;03m# Convert args to object arrays first\u001b[39;00m\n\u001b[1;32m   2453\u001b[0m     inputs \u001b[38;5;241m=\u001b[39m [asanyarray(a, dtype\u001b[38;5;241m=\u001b[39m\u001b[38;5;28mobject\u001b[39m) \u001b[38;5;28;01mfor\u001b[39;00m a \u001b[38;5;129;01min\u001b[39;00m args]\n",
      "File \u001b[0;32m~/environments/drone_env/lib/python3.10/site-packages/numpy/lib/function_base.py:2406\u001b[0m, in \u001b[0;36mvectorize._get_ufunc_and_otypes\u001b[0;34m(self, func, args)\u001b[0m\n\u001b[1;32m   2404\u001b[0m args \u001b[38;5;241m=\u001b[39m [asarray(arg) \u001b[38;5;28;01mfor\u001b[39;00m arg \u001b[38;5;129;01min\u001b[39;00m args]\n\u001b[1;32m   2405\u001b[0m \u001b[38;5;28;01mif\u001b[39;00m builtins\u001b[38;5;241m.\u001b[39many(arg\u001b[38;5;241m.\u001b[39msize \u001b[38;5;241m==\u001b[39m \u001b[38;5;241m0\u001b[39m \u001b[38;5;28;01mfor\u001b[39;00m arg \u001b[38;5;129;01min\u001b[39;00m args):\n\u001b[0;32m-> 2406\u001b[0m     \u001b[38;5;28;01mraise\u001b[39;00m \u001b[38;5;167;01mValueError\u001b[39;00m(\u001b[38;5;124m'\u001b[39m\u001b[38;5;124mcannot call `vectorize` on size 0 inputs \u001b[39m\u001b[38;5;124m'\u001b[39m\n\u001b[1;32m   2407\u001b[0m                      \u001b[38;5;124m'\u001b[39m\u001b[38;5;124munless `otypes` is set\u001b[39m\u001b[38;5;124m'\u001b[39m)\n\u001b[1;32m   2409\u001b[0m inputs \u001b[38;5;241m=\u001b[39m [arg\u001b[38;5;241m.\u001b[39mflat[\u001b[38;5;241m0\u001b[39m] \u001b[38;5;28;01mfor\u001b[39;00m arg \u001b[38;5;129;01min\u001b[39;00m args]\n\u001b[1;32m   2410\u001b[0m outputs \u001b[38;5;241m=\u001b[39m func(\u001b[38;5;241m*\u001b[39minputs)\n",
      "\u001b[0;31mValueError\u001b[0m: cannot call `vectorize` on size 0 inputs unless `otypes` is set"
     ]
    }
   ],
   "source": [
    "import numpy as np\n",
    "from quadcopter_animation import animation\n",
    "import importlib\n",
    "importlib.reload(animation)\n",
    "\n",
    "x,y,z,vx,vy,vz,phi,theta,psi = np.vectorize(transform_back)(dx,dy,dz,vx,vy,vz,phi,theta,psi)\n",
    "# t,x,y,z,vx,vy,vz,phi,theta,psi,u = (a[key] for key in 't x y z vx vy vz phi theta psi u'.split(' '))\n",
    "\n",
    "animation.animate(t, x, y, z, phi, theta, psi, u, multiple_trajectories=True, simultaneous=False, step=1, waypoints=[np.array([0,0,0])], colors=[(255,0,0)]*100)"
   ]
  },
  {
   "cell_type": "code",
   "execution_count": null,
   "metadata": {},
   "outputs": [],
   "source": []
  },
  {
   "cell_type": "code",
   "execution_count": null,
   "metadata": {},
   "outputs": [],
   "source": []
  },
  {
   "cell_type": "code",
   "execution_count": null,
   "metadata": {},
   "outputs": [],
   "source": []
  }
 ],
 "metadata": {
  "kernelspec": {
   "display_name": "Python (drone_env)",
   "language": "python",
   "name": "drone_env"
  },
  "language_info": {
   "codemirror_mode": {
    "name": "ipython",
    "version": 3
   },
   "file_extension": ".py",
   "mimetype": "text/x-python",
   "name": "python",
   "nbconvert_exporter": "python",
   "pygments_lexer": "ipython3",
   "version": "3.10.12"
  }
 },
 "nbformat": 4,
 "nbformat_minor": 4
}
